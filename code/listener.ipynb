{
 "cells": [
  {
   "cell_type": "markdown",
   "metadata": {},
   "source": [
    "This file implements the tweeter listener, which act as the kafka producer and post the stream for consumer to process."
   ]
  },
  {
   "cell_type": "code",
   "execution_count": 6,
   "metadata": {},
   "outputs": [
    {
     "name": "stdout",
     "output_type": "stream",
     "text": [
      "connected\n",
      "Telefónica IoT &amp; Big Data Tech, operador móvil virtual para potenciar su negocio del internet de las cosas https://t.co/LYAVIag6gO\n",
      "Hear about the Las Vegas Innovation District from Don Jacobson during the Summit of Things on Thursday, October 27. Attend virtually or in person. \n",
      "\n",
      "#Innovation #LasVegas #Sustainability \n",
      "\n",
      "Get your ticket now to attend, https://t.co/NSKofoNgDc https://t.co/ee7PHX8CxO\n",
      "Temp: 14.2°C, Druk: 1021.1hPa, RV:100.0%, Battery: 2327 #Lemmer #weer #meteo #iot 21:55:47\n",
      "00010100 #IoT #Clock #Time\n",
      "Introducing AWS IoT Versioning Streaming (IVS)™\n",
      "\n",
      "AWS IVS is a continuous delivery and hosting service for building conversational interfaces into applications using pre-built software modules, called components, that can be dependent on what; CloudFormation handles that.\n",
      "22:00, (CET) My temperature is 21.8 C and the humidity is 69.1% #cigar #humidor #IoT https://t.co/NtsNtH2vzf\n",
      "2022年10月27日 05:00:06 秋葉原ジャンク通りのとある部屋の温度は20.4度です。湿度は43.4%なので不快指数は65.4となります。気圧は1025.3Pa、空模様はどうでしょうか？（いつか天気予報が生成できるようになりたい！）https://t.co/LHec3cFv8j #raspberrypi #ifttt #iot #sensor\n",
      "Banda Larga &amp; Link dedicado: entenda o que é e como funciona\n",
      "\n",
      "Saiba mais:\n",
      "https://t.co/OonDRFq3DP\n",
      "\n",
      "#conectividade #IOT #informatica #tecnologiadainformação #sistemas #telefonia #computação #sistemasdeinformação #transformacaodigital #mtritsystems https://t.co/45kaMa71Iq\n",
      "New #job: Penetration Tester (IoT experience preferred) Location: Austin .. https://t.co/xZurXN94kZ #OscarJobs\n",
      "6 notable developments in bank and #fintech apps \n",
      "\n",
      "https://t.co/HXLTMkzhbG \n",
      "\n",
      "#Finance #Finserv #Blockchain #DataAnalytics #IoT @obussmann @mgleveille @ScarlettSieber @ccrosswell @dharmeshmistry https://t.co/o5vAze8v4b\n",
      "RT:#ArtificialIntelligence vs #MachineLearning  v/@ingeniousnet @Khulood_Almani\n",
      "#AI #ML #DataScience #BigData #Analytics #digital #Python #TensorFlow #VR #Fintech #JavaScript #Coding #100DaysofCode #IoT #devops #bot #Flutter #twitme #Blockchain #Business #NFTs #innovation #RStats https://t.co/VepE1pcnFy\n",
      "A plantinha não está muito hidratada :( A umidade marcou 0%. Atualização 2022-10-26  8:00 pm. #IOT #UFT #especialização #SIAD_2019\n",
      "Attendees of the Summit of Things will be able to re-watch any missed or most liked sessions and can take advantage of the platform to download useful materials and connect with the other attendees when they purchase a ticket! Buy yours now! https://t.co/nNmUwsxKla https://t.co/Lwimkj21O7\n",
      "A building's value is impacted by its energy efficiency. With the help of #IoT, energy optimization is becoming one of the most efficient ways to reduce energy use, and as a result, increase property value and cut CO2 emissions. https://t.co/VcZ4R51DgZ https://t.co/6jAmnynYhY\n",
      "Want to learn about Edge and IoT's role in smart cities and police forces? 🚔 Join @VMware's Civilian Government Industry Director in EMEA, Joachim Murat, to explore Edge and IoT potential for public services delivery in EMEA: https://t.co/f479FtDv7D https://t.co/OwxHVIp1tN\n",
      "You'd be surprised how common these three #IoT development missteps are that lead to poorly performing IoT #solutions. Check out this new whitepaper from MachNation for how to avoid them! https://t.co/M0l0yb6W3H\n",
      "Since its inception in 2011, the #IoT has grown significantly – in both public awareness and its capabilities. @AnalyticsIoT provides insight into this growth and exciting stats: https://t.co/5SdCVgakuS\n",
      "IoT software trends in 2023 #InternetOfThings #innovation via https://t.co/eBW8Lmmpx7 https://t.co/cbZg6cOgFw\n",
      "Indulge your inner tech geek by diving into these amazing breakthroughs in #AI, #IoT, #Automation &amp; Beyond – and what this could mean for your company. “Future Technology NOW: AI, IoT, Automation &amp; Beyond” Friday, 10/28 from 12:30pm-1:45pm. #TotalTech22 https://t.co/eKuCJQZIvp\n",
      "Tymheredd yn Mwnt 👉13.47c👈Temperature in Mwnt #Ceredigion #LoRaWAN #IoT #SmartArea\n",
      "Google Cloud SDK for Go has a new release \"iot: v1.3.0\", published at 2022-10-25 19:01:33 (UTC)\n",
      "\n",
      "#pcb_gcp\n",
      "\n",
      "https://t.co/CNsLMHH1X6\n",
      "How #AI Is Changing The Game In #Insurance https://t.co/YT29alEqKj #MachineLearning #Python #IoT #flutter #100DaysOfMLCode  #javascript #womenwhocode #RStats #Serverless #CodeNewbie #DataScience #100DaysOfCode\n",
      "How much does a garden and plant-based diet save on groceries? Buz Kloot @UofSC gives an honest answer on Project Sustainability Podcast with Peggy Smedley. https://t.co/R4zZWRoku9 #IoT #sustainability #AI #digitaltransformation #PeggySmedley #podcast https://t.co/6CDrNdDEMf\n",
      "Nothing you can do to avoid Technology! , Biomedical IDENTITY, ROBOTICS, IoT, VR,Quantum Computing, 5G Internet, Cloud computing .. .. FACE IT, Change with it.\n",
      "\n",
      "#MWC22 #ZTE @ZTEPress https://t.co/eADxUIayow\n",
      "TD SYNNEX lanza una solución de oficina inteligente con IAconnects #IoT #InternetDeLasCosas https://t.co/hQMAmnEfuz\n",
      "Programming Languages and their Uses\n",
      "\n",
      "#BigData #Analytics #DataScience #AI #MachineLearning #IoT #PyTorch #Python #RStats #TensorFlow #Java #JavaScript #ReactJS #React #Serverless #DataScientist #Linux #Programming #Coding #100DaysofCode #DevOps #SQL #Dev #CyberSecurity #Flutter https://t.co/V0Dj2bGSfE\n",
      "Low-code development has become a technological movement, says @Gartner.\n",
      "\n",
      "Here's why. https://t.co/pteOUVeVv9 \n",
      "\n",
      "#BigData #Analytics #DataScience #AI #IoT #IIoT #PyTorch #Python #RStats #TensorFlow #Java #JavaScript #ReactJS #NoCode #CloudComputing\n",
      "Automated IoT sensors keep equipment running safely and effectively https://t.co/gWrCWAWj3h @MSFTDynamics365 https://t.co/BZL1el2vvz\n",
      "Ubiquitous IoT Connectivity (sponsored by Eseye) \n",
      "Welcome to #IoT Coffee Talk #66 where we chat about #Digital #IIoT #Automation #DigitalTwins #Edge #IoTPL #IoTCL #Cloud #DigitalTransformation #5G #AI #Data #Industry40 &amp; #Sustainability over a cup of https://t.co/4v2GVw7xk7\n",
      "The 2021 Christmas Special! \n",
      "Welcome to #IoT Coffee Talk #83 where we chat about #Digital #IIoT #Automation #DigitalTwins #Edge #IoTPL #IoTCL #Cloud #DigitalTransformation #5G #AI #Data #Industry40 &amp; #Sustainability over a cup of coffee.\n",
      "\n",
      "Grab a cup and https://t.co/o2pVoArFMf\n"
     ]
    },
    {
     "ename": "KeyboardInterrupt",
     "evalue": "",
     "output_type": "error",
     "traceback": [
      "\u001b[0;31m---------------------------------------------------------------------------\u001b[0m",
      "\u001b[0;31mKeyboardInterrupt\u001b[0m                         Traceback (most recent call last)",
      "Cell \u001b[0;32mIn [6], line 40\u001b[0m\n\u001b[1;32m     38\u001b[0m     stream\u001b[39m.\u001b[39madd_rules(tweepy\u001b[39m.\u001b[39mStreamRule(term))\n\u001b[1;32m     39\u001b[0m \u001b[39m# stream.filter()\u001b[39;00m\n\u001b[0;32m---> 40\u001b[0m stream\u001b[39m.\u001b[39;49mfilter(tweet_fields\u001b[39m=\u001b[39;49m[\u001b[39m\"\u001b[39;49m\u001b[39mreferenced_tweets\u001b[39;49m\u001b[39m\"\u001b[39;49m])\n",
      "File \u001b[0;32m/usr/local/lib/python3.10/site-packages/tweepy/streaming.py:791\u001b[0m, in \u001b[0;36mStreamingClient.filter\u001b[0;34m(self, threaded, **params)\u001b[0m\n\u001b[1;32m    789\u001b[0m     \u001b[39mreturn\u001b[39;00m \u001b[39mself\u001b[39m\u001b[39m.\u001b[39m_threaded_connect(method, endpoint, params\u001b[39m=\u001b[39mparams)\n\u001b[1;32m    790\u001b[0m \u001b[39melse\u001b[39;00m:\n\u001b[0;32m--> 791\u001b[0m     \u001b[39mself\u001b[39;49m\u001b[39m.\u001b[39;49m_connect(method, endpoint, params\u001b[39m=\u001b[39;49mparams)\n",
      "File \u001b[0;32m/usr/local/lib/python3.10/site-packages/tweepy/streaming.py:611\u001b[0m, in \u001b[0;36mStreamingClient._connect\u001b[0;34m(self, method, endpoint, **kwargs)\u001b[0m\n\u001b[1;32m    609\u001b[0m \u001b[39mself\u001b[39m\u001b[39m.\u001b[39msession\u001b[39m.\u001b[39mheaders[\u001b[39m\"\u001b[39m\u001b[39mAuthorization\u001b[39m\u001b[39m\"\u001b[39m] \u001b[39m=\u001b[39m \u001b[39mf\u001b[39m\u001b[39m\"\u001b[39m\u001b[39mBearer \u001b[39m\u001b[39m{\u001b[39;00m\u001b[39mself\u001b[39m\u001b[39m.\u001b[39mbearer_token\u001b[39m}\u001b[39;00m\u001b[39m\"\u001b[39m\n\u001b[1;32m    610\u001b[0m url \u001b[39m=\u001b[39m \u001b[39mf\u001b[39m\u001b[39m\"\u001b[39m\u001b[39mhttps://api.twitter.com/2/tweets/\u001b[39m\u001b[39m{\u001b[39;00mendpoint\u001b[39m}\u001b[39;00m\u001b[39m/stream\u001b[39m\u001b[39m\"\u001b[39m\n\u001b[0;32m--> 611\u001b[0m \u001b[39msuper\u001b[39;49m()\u001b[39m.\u001b[39;49m_connect(method, url, \u001b[39m*\u001b[39;49m\u001b[39m*\u001b[39;49mkwargs)\n",
      "File \u001b[0;32m/usr/local/lib/python3.10/site-packages/tweepy/streaming.py:87\u001b[0m, in \u001b[0;36mBaseStream._connect\u001b[0;34m(self, method, url, auth, params, headers, body)\u001b[0m\n\u001b[1;32m     84\u001b[0m \u001b[39mif\u001b[39;00m \u001b[39mnot\u001b[39;00m \u001b[39mself\u001b[39m\u001b[39m.\u001b[39mrunning:\n\u001b[1;32m     85\u001b[0m     \u001b[39mbreak\u001b[39;00m\n\u001b[0;32m---> 87\u001b[0m \u001b[39mfor\u001b[39;00m line \u001b[39min\u001b[39;00m resp\u001b[39m.\u001b[39miter_lines(\n\u001b[1;32m     88\u001b[0m     chunk_size\u001b[39m=\u001b[39m\u001b[39mself\u001b[39m\u001b[39m.\u001b[39mchunk_size\n\u001b[1;32m     89\u001b[0m ):\n\u001b[1;32m     90\u001b[0m     \u001b[39mif\u001b[39;00m line:\n\u001b[1;32m     91\u001b[0m         \u001b[39mself\u001b[39m\u001b[39m.\u001b[39mon_data(line)\n",
      "File \u001b[0;32m/usr/local/lib/python3.10/site-packages/requests/models.py:865\u001b[0m, in \u001b[0;36mResponse.iter_lines\u001b[0;34m(self, chunk_size, decode_unicode, delimiter)\u001b[0m\n\u001b[1;32m    856\u001b[0m \u001b[39m\"\"\"Iterates over the response data, one line at a time.  When\u001b[39;00m\n\u001b[1;32m    857\u001b[0m \u001b[39mstream=True is set on the request, this avoids reading the\u001b[39;00m\n\u001b[1;32m    858\u001b[0m \u001b[39mcontent at once into memory for large responses.\u001b[39;00m\n\u001b[1;32m    859\u001b[0m \n\u001b[1;32m    860\u001b[0m \u001b[39m.. note:: This method is not reentrant safe.\u001b[39;00m\n\u001b[1;32m    861\u001b[0m \u001b[39m\"\"\"\u001b[39;00m\n\u001b[1;32m    863\u001b[0m pending \u001b[39m=\u001b[39m \u001b[39mNone\u001b[39;00m\n\u001b[0;32m--> 865\u001b[0m \u001b[39mfor\u001b[39;00m chunk \u001b[39min\u001b[39;00m \u001b[39mself\u001b[39m\u001b[39m.\u001b[39miter_content(\n\u001b[1;32m    866\u001b[0m     chunk_size\u001b[39m=\u001b[39mchunk_size, decode_unicode\u001b[39m=\u001b[39mdecode_unicode\n\u001b[1;32m    867\u001b[0m ):\n\u001b[1;32m    869\u001b[0m     \u001b[39mif\u001b[39;00m pending \u001b[39mis\u001b[39;00m \u001b[39mnot\u001b[39;00m \u001b[39mNone\u001b[39;00m:\n\u001b[1;32m    870\u001b[0m         chunk \u001b[39m=\u001b[39m pending \u001b[39m+\u001b[39m chunk\n",
      "File \u001b[0;32m/usr/local/lib/python3.10/site-packages/requests/models.py:816\u001b[0m, in \u001b[0;36mResponse.iter_content.<locals>.generate\u001b[0;34m()\u001b[0m\n\u001b[1;32m    814\u001b[0m \u001b[39mif\u001b[39;00m \u001b[39mhasattr\u001b[39m(\u001b[39mself\u001b[39m\u001b[39m.\u001b[39mraw, \u001b[39m\"\u001b[39m\u001b[39mstream\u001b[39m\u001b[39m\"\u001b[39m):\n\u001b[1;32m    815\u001b[0m     \u001b[39mtry\u001b[39;00m:\n\u001b[0;32m--> 816\u001b[0m         \u001b[39myield from\u001b[39;00m \u001b[39mself\u001b[39m\u001b[39m.\u001b[39mraw\u001b[39m.\u001b[39mstream(chunk_size, decode_content\u001b[39m=\u001b[39m\u001b[39mTrue\u001b[39;00m)\n\u001b[1;32m    817\u001b[0m     \u001b[39mexcept\u001b[39;00m ProtocolError \u001b[39mas\u001b[39;00m e:\n\u001b[1;32m    818\u001b[0m         \u001b[39mraise\u001b[39;00m ChunkedEncodingError(e)\n",
      "File \u001b[0;32m/usr/local/lib/python3.10/site-packages/urllib3/response.py:623\u001b[0m, in \u001b[0;36mHTTPResponse.stream\u001b[0;34m(self, amt, decode_content)\u001b[0m\n\u001b[1;32m    607\u001b[0m \u001b[39m\"\"\"\u001b[39;00m\n\u001b[1;32m    608\u001b[0m \u001b[39mA generator wrapper for the read() method. A call will block until\u001b[39;00m\n\u001b[1;32m    609\u001b[0m \u001b[39m``amt`` bytes have been read from the connection or until the\u001b[39;00m\n\u001b[0;32m   (...)\u001b[0m\n\u001b[1;32m    620\u001b[0m \u001b[39m    'content-encoding' header.\u001b[39;00m\n\u001b[1;32m    621\u001b[0m \u001b[39m\"\"\"\u001b[39;00m\n\u001b[1;32m    622\u001b[0m \u001b[39mif\u001b[39;00m \u001b[39mself\u001b[39m\u001b[39m.\u001b[39mchunked \u001b[39mand\u001b[39;00m \u001b[39mself\u001b[39m\u001b[39m.\u001b[39msupports_chunked_reads():\n\u001b[0;32m--> 623\u001b[0m     \u001b[39mfor\u001b[39;00m line \u001b[39min\u001b[39;00m \u001b[39mself\u001b[39m\u001b[39m.\u001b[39mread_chunked(amt, decode_content\u001b[39m=\u001b[39mdecode_content):\n\u001b[1;32m    624\u001b[0m         \u001b[39myield\u001b[39;00m line\n\u001b[1;32m    625\u001b[0m \u001b[39melse\u001b[39;00m:\n",
      "File \u001b[0;32m/usr/local/lib/python3.10/site-packages/urllib3/response.py:815\u001b[0m, in \u001b[0;36mHTTPResponse.read_chunked\u001b[0;34m(self, amt, decode_content)\u001b[0m\n\u001b[1;32m    812\u001b[0m     \u001b[39mreturn\u001b[39;00m\n\u001b[1;32m    814\u001b[0m \u001b[39mwhile\u001b[39;00m \u001b[39mTrue\u001b[39;00m:\n\u001b[0;32m--> 815\u001b[0m     \u001b[39mself\u001b[39;49m\u001b[39m.\u001b[39;49m_update_chunk_length()\n\u001b[1;32m    816\u001b[0m     \u001b[39mif\u001b[39;00m \u001b[39mself\u001b[39m\u001b[39m.\u001b[39mchunk_left \u001b[39m==\u001b[39m \u001b[39m0\u001b[39m:\n\u001b[1;32m    817\u001b[0m         \u001b[39mbreak\u001b[39;00m\n",
      "File \u001b[0;32m/usr/local/lib/python3.10/site-packages/urllib3/response.py:745\u001b[0m, in \u001b[0;36mHTTPResponse._update_chunk_length\u001b[0;34m(self)\u001b[0m\n\u001b[1;32m    743\u001b[0m \u001b[39mif\u001b[39;00m \u001b[39mself\u001b[39m\u001b[39m.\u001b[39mchunk_left \u001b[39mis\u001b[39;00m \u001b[39mnot\u001b[39;00m \u001b[39mNone\u001b[39;00m:\n\u001b[1;32m    744\u001b[0m     \u001b[39mreturn\u001b[39;00m\n\u001b[0;32m--> 745\u001b[0m line \u001b[39m=\u001b[39m \u001b[39mself\u001b[39;49m\u001b[39m.\u001b[39;49m_fp\u001b[39m.\u001b[39;49mfp\u001b[39m.\u001b[39;49mreadline()\n\u001b[1;32m    746\u001b[0m line \u001b[39m=\u001b[39m line\u001b[39m.\u001b[39msplit(\u001b[39mb\u001b[39m\u001b[39m\"\u001b[39m\u001b[39m;\u001b[39m\u001b[39m\"\u001b[39m, \u001b[39m1\u001b[39m)[\u001b[39m0\u001b[39m]\n\u001b[1;32m    747\u001b[0m \u001b[39mtry\u001b[39;00m:\n",
      "File \u001b[0;32m/usr/local/Cellar/python@3.10/3.10.6_2/Frameworks/Python.framework/Versions/3.10/lib/python3.10/socket.py:705\u001b[0m, in \u001b[0;36mSocketIO.readinto\u001b[0;34m(self, b)\u001b[0m\n\u001b[1;32m    703\u001b[0m \u001b[39mwhile\u001b[39;00m \u001b[39mTrue\u001b[39;00m:\n\u001b[1;32m    704\u001b[0m     \u001b[39mtry\u001b[39;00m:\n\u001b[0;32m--> 705\u001b[0m         \u001b[39mreturn\u001b[39;00m \u001b[39mself\u001b[39;49m\u001b[39m.\u001b[39;49m_sock\u001b[39m.\u001b[39;49mrecv_into(b)\n\u001b[1;32m    706\u001b[0m     \u001b[39mexcept\u001b[39;00m timeout:\n\u001b[1;32m    707\u001b[0m         \u001b[39mself\u001b[39m\u001b[39m.\u001b[39m_timeout_occurred \u001b[39m=\u001b[39m \u001b[39mTrue\u001b[39;00m\n",
      "File \u001b[0;32m/usr/local/Cellar/python@3.10/3.10.6_2/Frameworks/Python.framework/Versions/3.10/lib/python3.10/ssl.py:1274\u001b[0m, in \u001b[0;36mSSLSocket.recv_into\u001b[0;34m(self, buffer, nbytes, flags)\u001b[0m\n\u001b[1;32m   1270\u001b[0m     \u001b[39mif\u001b[39;00m flags \u001b[39m!=\u001b[39m \u001b[39m0\u001b[39m:\n\u001b[1;32m   1271\u001b[0m         \u001b[39mraise\u001b[39;00m \u001b[39mValueError\u001b[39;00m(\n\u001b[1;32m   1272\u001b[0m           \u001b[39m\"\u001b[39m\u001b[39mnon-zero flags not allowed in calls to recv_into() on \u001b[39m\u001b[39m%s\u001b[39;00m\u001b[39m\"\u001b[39m \u001b[39m%\u001b[39m\n\u001b[1;32m   1273\u001b[0m           \u001b[39mself\u001b[39m\u001b[39m.\u001b[39m\u001b[39m__class__\u001b[39m)\n\u001b[0;32m-> 1274\u001b[0m     \u001b[39mreturn\u001b[39;00m \u001b[39mself\u001b[39;49m\u001b[39m.\u001b[39;49mread(nbytes, buffer)\n\u001b[1;32m   1275\u001b[0m \u001b[39melse\u001b[39;00m:\n\u001b[1;32m   1276\u001b[0m     \u001b[39mreturn\u001b[39;00m \u001b[39msuper\u001b[39m()\u001b[39m.\u001b[39mrecv_into(buffer, nbytes, flags)\n",
      "File \u001b[0;32m/usr/local/Cellar/python@3.10/3.10.6_2/Frameworks/Python.framework/Versions/3.10/lib/python3.10/ssl.py:1130\u001b[0m, in \u001b[0;36mSSLSocket.read\u001b[0;34m(self, len, buffer)\u001b[0m\n\u001b[1;32m   1128\u001b[0m \u001b[39mtry\u001b[39;00m:\n\u001b[1;32m   1129\u001b[0m     \u001b[39mif\u001b[39;00m buffer \u001b[39mis\u001b[39;00m \u001b[39mnot\u001b[39;00m \u001b[39mNone\u001b[39;00m:\n\u001b[0;32m-> 1130\u001b[0m         \u001b[39mreturn\u001b[39;00m \u001b[39mself\u001b[39;49m\u001b[39m.\u001b[39;49m_sslobj\u001b[39m.\u001b[39;49mread(\u001b[39mlen\u001b[39;49m, buffer)\n\u001b[1;32m   1131\u001b[0m     \u001b[39melse\u001b[39;00m:\n\u001b[1;32m   1132\u001b[0m         \u001b[39mreturn\u001b[39;00m \u001b[39mself\u001b[39m\u001b[39m.\u001b[39m_sslobj\u001b[39m.\u001b[39mread(\u001b[39mlen\u001b[39m)\n",
      "\u001b[0;31mKeyboardInterrupt\u001b[0m: "
     ]
    }
   ],
   "source": [
    "import tweepy\n",
    "import time\n",
    "from kafka import KafkaProducer\n",
    "\n",
    "bearer_token= r\"AAAAAAAAAAAAAAAAAAAAACddhQEAAAAAJf6G0ZqwhPI46bXY7WvUjtlmio4%3DqYBBgJ3mkE49mJj0WNvrfbXCg7lbiPldBelynrrQkCEYrlyKTH\"\n",
    "api_key = \"sIZmnRFGSXlruVfOWFOev6eGX\"\n",
    "api_secret = \"6HggNXL2llVLVxNzXEpqMwLXAfu2uLoLoO2JWzk7RWHHykwlED\"\n",
    "access_token = '1571982292217733121-FpSCelJc2NeTaYnqiV7TxlnHNUahv8'\n",
    "access_token_secret = 'XNqPSbfxfjPMKpF34789QpLutjvfIkrtjWWf0PDxrEgvX'\n",
    "\n",
    "tweepy.Client(bearer_token,api_key,api_secret,access_token,access_token_secret)\n",
    "auth = tweepy.OAuth1UserHandler(api_key,api_secret,access_token,access_token_secret)\n",
    "api = tweepy.API(auth)\n",
    "\n",
    "topic_name = \"mqtt_attack\"\n",
    "search_terms = [\"IoT-attack\", \"IoT-crime\"]\n",
    "producer = KafkaProducer(bootstrap_servers='localhost:9092')\n",
    "\n",
    "\n",
    "class MyStream(tweepy.StreamingClient):\n",
    "\n",
    "    def on_status(self, status):\n",
    "        print(status.text)\n",
    "        \n",
    "    def on_connect(self):\n",
    "        print(\"connected\")\n",
    "    \n",
    "    def on_tweet(self,tweet):\n",
    "        if tweet.referenced_tweets == None:\n",
    "            print (tweet.text)\n",
    "            producer.send(topic_name,tweet.text.encode('utf-8'))\n",
    "            time.sleep(1.5)\n",
    "            \n",
    "            \n",
    "stream = MyStream(bearer_token=bearer_token)\n",
    "\n",
    "for term in search_terms:\n",
    "    stream.add_rules(tweepy.StreamRule(term))   # filter rule - search term\n",
    "\n",
    "stream.filter(tweet_fields=[\"referenced_tweets\"])"
   ]
  },
  {
   "cell_type": "code",
   "execution_count": null,
   "metadata": {},
   "outputs": [],
   "source": []
  }
 ],
 "metadata": {
  "kernelspec": {
   "display_name": "Python 3.10.6 64-bit",
   "language": "python",
   "name": "python3"
  },
  "language_info": {
   "codemirror_mode": {
    "name": "ipython",
    "version": 3
   },
   "file_extension": ".py",
   "mimetype": "text/x-python",
   "name": "python",
   "nbconvert_exporter": "python",
   "pygments_lexer": "ipython3",
   "version": "3.10.6"
  },
  "orig_nbformat": 4,
  "vscode": {
   "interpreter": {
    "hash": "aee8b7b246df8f9039afb4144a1f6fd8d2ca17a180786b69acc140d282b71a49"
   }
  }
 },
 "nbformat": 4,
 "nbformat_minor": 2
}
