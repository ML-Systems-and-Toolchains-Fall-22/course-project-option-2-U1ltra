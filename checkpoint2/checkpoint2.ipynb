{
 "cells": [
  {
   "cell_type": "code",
   "execution_count": 15,
   "metadata": {},
   "outputs": [],
   "source": [
    "import pyspark\n",
    "from pyspark import SparkContext, SparkConf, SQLContext\n",
    "from pyspark.sql import SparkSession\n",
    "\n",
    "# from pyspark.sql import SparkSession\n",
    "\n",
    "spark = SparkSession.builder.master(\"local[*]\").appName(\"ML_Model\").getOrCreate()\n",
    "# spark.conf.set(\"spark.executor.memory\", \"8g\")\n",
    "# spark.conf.set(\"spark.executor.cores\", \"4\")\n",
    "# spark.conf.set(\"spark.driver.cores\", \"4\")\n",
    "# conf = SparkConf().set(\"spark.jars\", \"/Users/sz904/Downloads/postgresql-42.2.18.jar\")\n",
    "# sc = SparkContext( conf=conf)\n",
    "\n"
   ]
  },
  {
   "cell_type": "code",
   "execution_count": 16,
   "metadata": {},
   "outputs": [],
   "source": [
    "col_names = [\n",
    "    'tcp_flags',\n",
    "    'tcp_time_delta',\n",
    "    'tcp_len',\n",
    "    'mqtt_conack_flags',\n",
    "    'mqtt_conack_flags_reserved',\n",
    "    'mqtt_conack_flags_sp',\n",
    "    'mqtt_conack_val',\n",
    "    'mqtt_conflag_cleansess',\n",
    "    'mqtt_conflag_passwd',\n",
    "    'mqtt_conflag_qos',\n",
    "    'mqtt_conflag_reserved',\n",
    "    'mqtt_conflag_retain',\n",
    "    'mqtt_conflag_uname',\n",
    "    'mqtt_conflag_willflag',\n",
    "    'mqtt_conflags',\n",
    "    'mqtt_dupflag',\n",
    "    'mqtt_hdrflags',\n",
    "    'mqtt_kalive',\n",
    "    'mqtt_len',\n",
    "    'mqtt_msg',\n",
    "    'mqtt_msgid',\n",
    "    'mqtt_msgtype',\n",
    "    'mqtt_proto_len',\n",
    "    'mqtt_protoname',\n",
    "    'mqtt_qos',\n",
    "    'mqtt_retain',\n",
    "    'mqtt_sub_qos',\n",
    "    'mqtt_suback_qos',\n",
    "    'mqtt_ver',\n",
    "    'mqtt_willmsg',\n",
    "    'mqtt_willmsg_len',\n",
    "    'mqtt_willtopic',\n",
    "    'mqtt_willtopic_len',\n",
    "    'target',\n",
    "    'dataset',\n",
    "    'tcp_flags_decimal',\n",
    "    'mqtt_conflags_decimal',\n",
    "    'mqtt_hdrflags_decimal'\n",
    "]\n",
    "\n",
    "nominal_cols = [\"mqtt_msg\"]\n",
    "\n",
    "corelated_cols_to_remove = [\"mqtt_conack_flags\",\n",
    "                     \"mqtt_conack_flags_reserved\",\n",
    "                     \"mqtt_conack_flags_sp\", \n",
    "                     \"mqtt_conflag_qos\", \n",
    "                     \"mqtt_conflag_reserved\", \n",
    "                     \"mqtt_conflag_retain\", \n",
    "                     \"mqtt_conflag_willflag\", \n",
    "                     \"mqtt_willtopic\", \n",
    "                     \"mqtt_willtopic_len\", \n",
    "                     \"mqtt_sub_qos\", \n",
    "                     \"mqtt_suback_qos\", \n",
    "                     \"mqtt_willmsg\",\n",
    "                     \"mqtt_willmsg_len\"]\n",
    "\n",
    "\n",
    "\n",
    "binary_cols = [\"mqtt_conack_val\", \n",
    "                  \"mqtt_conflag_cleansess\", \n",
    "                  \"mqtt_conflag_passwd\", \n",
    "                  \"mqtt_conflag_uname\", \n",
    "                  \"mqtt_dupflag\", \n",
    "                  \"mqtt_proto_len\", \n",
    "                  \"mqtt_protoname\", \n",
    "                  \"mqtt_qos\", \n",
    "                  \"mqtt_retain\", \n",
    "                  \"mqtt_ver\"]\n",
    "\n",
    "\n",
    "continuous_cols = [\"tcp_flags_decimal\",\n",
    "                     'tcp_time_delta',\n",
    "                     'tcp_len',\n",
    "                     'mqtt_kalive',\n",
    "                     'mqtt_len',\n",
    "                     'mqtt_msgid',\n",
    "                     'mqtt_msgtype',\n",
    "                     'mqtt_conflags_decimal', \n",
    "                     \"mqtt_hdrflags_decimal\", ]"
   ]
  },
  {
   "cell_type": "code",
   "execution_count": 17,
   "metadata": {},
   "outputs": [],
   "source": [
    "import pyspark\n",
    "from pyspark.sql import SparkSession, SQLContext\n",
    "from pyspark.ml import Pipeline,Transformer\n",
    "from pyspark.ml.feature import Imputer,StandardScaler,StringIndexer,OneHotEncoder, VectorAssembler\n",
    "\n",
    "from pyspark.sql.functions import *\n",
    "from pyspark.sql.types import *\n",
    "\n",
    "from pyspark.ml.classification import LogisticRegression\n",
    "from pyspark.ml.tuning import ParamGridBuilder, CrossValidator\n",
    "from pyspark.ml.evaluation import BinaryClassificationEvaluator, MulticlassClassificationEvaluator\n",
    "\n",
    "import numpy as np\n",
    "from matplotlib import pyplot as plt\n",
    "\n",
    "\n",
    "class OutcomeCreater(Transformer): # this defines a transformer that creates the outcome column\n",
    "    \n",
    "    def __init__(self):\n",
    "        super().__init__()\n",
    "\n",
    "    def _transform(self, dataset):\n",
    "        # label_to_binary = udf(lambda name: 0.0 if name == 'normal' else 1.0)\n",
    "        # output_df = dataset.withColumn('outcome', label_to_binary(col('class'))).drop(\"class\")  \n",
    "        # output_df = output_df.withColumn('outcome', col('outcome').cast(DoubleType()))\n",
    "        # output_df = output_df.drop('difficulty')\n",
    "        # return output_df\n",
    "\n",
    "        def converter(name):\n",
    "            if name == 'legitimate':\n",
    "                return 0\n",
    "            elif name == 'dos':\n",
    "                return 1      \n",
    "            elif name == 'malformed':\n",
    "                return 2     \n",
    "            elif name == 'flood':\n",
    "                return 3\n",
    "            elif name == 'bruteforce':\n",
    "                return 4   \n",
    "            elif name == 'slowite':\n",
    "                return 5  \n",
    "            else:\n",
    "                print(\"out of range\")\n",
    "                return None\n",
    "            \n",
    "        label_to_binary = udf(lambda name: converter(name))\n",
    "        output_df = dataset.withColumn('label', label_to_binary(col('target')))\n",
    "        output_df = output_df.drop(\"target\")  \n",
    "        output_df = output_df.withColumn('label', col('label').cast(DoubleType()))\n",
    "        return output_df\n",
    "\n",
    "class FeatureTypeCaster(Transformer): # this transformer will cast the columns as appropriate types  \n",
    "    def __init__(self):\n",
    "        super().__init__()\n",
    "\n",
    "    def _transform(self, dataset):\n",
    "        output_df = dataset\n",
    "        for col_name in binary_cols + continuous_cols:\n",
    "            output_df = output_df.withColumn(col_name,col(col_name).cast(DoubleType()))\n",
    "\n",
    "        return output_df\n",
    "class ColumnDropper(Transformer): # this transformer drops unnecessary columns\n",
    "    def __init__(self, columns_to_drop = None):\n",
    "        super().__init__()\n",
    "        self.columns_to_drop=columns_to_drop\n",
    "    def _transform(self, dataset):\n",
    "        output_df = dataset\n",
    "        for col_name in self.columns_to_drop:\n",
    "            output_df = output_df.drop(col_name)\n",
    "        return output_df\n",
    "\n"
   ]
  },
  {
   "cell_type": "code",
   "execution_count": 18,
   "metadata": {},
   "outputs": [
    {
     "name": "stdout",
     "output_type": "stream",
     "text": [
      "231646\n",
      "99290\n"
     ]
    }
   ],
   "source": [
    "train_path = \"/Users/sz904/Desktop/df_train_pandas.csv\"\n",
    "test_path = \"/Users/sz904/Desktop/df_test_pandas.csv\"\n",
    "df_train_updated = spark.read.csv(train_path, header=True, inferSchema= True).toDF(*col_names)\n",
    "df_test_updated = spark.read.csv(test_path, header=True, inferSchema= True).toDF(*col_names)\n",
    "print(df_train_updated.count())\n",
    "print(df_test_updated.count())\n"
   ]
  },
  {
   "cell_type": "code",
   "execution_count": 19,
   "metadata": {},
   "outputs": [],
   "source": [
    "df_train_updated = df_train_updated.drop(\"tcp_flags\")\n",
    "df_train_updated = df_train_updated.drop(\"mqtt_conflags\")\n",
    "df_train_updated = df_train_updated.drop(\"mqtt_hdrflags\")\n",
    "df_train_updated = df_train_updated.drop(\"dataset\")\n",
    "\n",
    "df_test_updated = df_test_updated.drop(\"tcp_flags\")\n",
    "df_test_updated = df_test_updated.drop(\"mqtt_conflags\")\n",
    "df_test_updated = df_test_updated.drop(\"mqtt_hdrflags\")\n",
    "df_test_updated = df_test_updated.drop(\"dataset\")\n",
    "\n",
    "\n",
    "df_train_updated = df_train_updated.drop(\"mqtt_msg\")\n",
    "df_test_updated = df_test_updated.drop(\"mqtt_msg\")\n",
    "\n",
    "df_train_updated = df_train_updated.drop(\"mqtt_conack_flags\")\n",
    "df_test_updated = df_test_updated.drop(\"mqtt_conack_flags\")\n",
    "\n",
    "df_train_updated = df_train_updated.drop(\"mqtt_protoname\")\n",
    "df_test_updated = df_test_updated.drop(\"mqtt_protoname\")"
   ]
  },
  {
   "cell_type": "code",
   "execution_count": 123,
   "metadata": {},
   "outputs": [
    {
     "data": {
      "text/plain": [
       "30"
      ]
     },
     "execution_count": 123,
     "metadata": {},
     "output_type": "execute_result"
    }
   ],
   "source": [
    "outcomeCreate = OutcomeCreater()\n",
    "stage_vector_assembler = VectorAssembler(inputCols=[column for column in df_train_updated.columns if column != 'target'], outputCol=\"vectorized_features\")\n",
    "stage_scaler = StandardScaler(inputCol= 'vectorized_features', outputCol= 'features')\n",
    "len(stage_vector_assembler.getInputCols())\n"
   ]
  },
  {
   "cell_type": "code",
   "execution_count": 21,
   "metadata": {},
   "outputs": [],
   "source": [
    "df_train = outcomeCreate.transform(df_train_updated)\n",
    "df_train = stage_vector_assembler.transform(df_train)\n",
    "scaler_model = stage_scaler.fit(df_train)\n",
    "df_train = scaler_model.transform(df_train)\n",
    "# df_train.printSchema()"
   ]
  },
  {
   "cell_type": "code",
   "execution_count": 22,
   "metadata": {},
   "outputs": [],
   "source": [
    "df_test = outcomeCreate.transform(df_test_updated)\n",
    "df_test = stage_vector_assembler.transform(df_test)\n",
    "df_test = scaler_model.transform(df_test)\n",
    "# df_test.printSchema()"
   ]
  },
  {
   "cell_type": "code",
   "execution_count": 23,
   "metadata": {},
   "outputs": [
    {
     "name": "stdout",
     "output_type": "stream",
     "text": [
      "root\n",
      " |-- label: double (nullable = true)\n",
      " |-- features: vector (nullable = true)\n",
      "\n"
     ]
    }
   ],
   "source": [
    "dropper = ColumnDropper(\n",
    "    [column for column in df_train.columns if column != 'label' and column != 'features']\n",
    ")\n",
    "\n",
    "df_train = dropper.transform(df_train)\n",
    "df_test = dropper.transform(df_test)\n",
    "df_train.printSchema()\n"
   ]
  },
  {
   "cell_type": "markdown",
   "metadata": {},
   "source": [
    "------------------Pyspark ML- Logistic Regression------------------------"
   ]
  },
  {
   "cell_type": "code",
   "execution_count": 100,
   "metadata": {},
   "outputs": [],
   "source": [
    "# logistic model\n",
    "lr = LogisticRegression(featuresCol = 'features', labelCol = 'label')\n",
    "#### default regparam 0, default maxIter = 100. "
   ]
  },
  {
   "cell_type": "code",
   "execution_count": 101,
   "metadata": {},
   "outputs": [
    {
     "name": "stdout",
     "output_type": "stream",
     "text": [
      "Logistic Regression Train accuracy = 80.45%, test accuracy = 80.08%\n"
     ]
    }
   ],
   "source": [
    "lr_model = lr.fit(df_train)\n",
    "lr_prediction_train = lr_model.transform(df_train)\n",
    "lr_prediction_test = lr_model.transform(df_test)\n",
    "lr_accuracy_train = evaluator.evaluate(lr_prediction_train)\n",
    "lr_accuracy_test = evaluator.evaluate(lr_prediction_test)\n",
    "print(f\"Logistic Regression Train accuracy = {np.round(lr_accuracy_train*100,2)}%, test accuracy = {np.round(lr_accuracy_test*100,2)}%\")\n"
   ]
  },
  {
   "cell_type": "code",
   "execution_count": 107,
   "metadata": {},
   "outputs": [
    {
     "data": {
      "text/plain": [
       "100"
      ]
     },
     "execution_count": 107,
     "metadata": {},
     "output_type": "execute_result"
    }
   ],
   "source": [
    "lr_model.getMaxIter()"
   ]
  },
  {
   "cell_type": "code",
   "execution_count": 103,
   "metadata": {},
   "outputs": [],
   "source": [
    "\n",
    "\n",
    "# cross validation\n",
    "lr_paramGrid = (ParamGridBuilder()\n",
    "            .addGrid(lr.regParam, [0, 0.0001, 0.001])\n",
    "            .addGrid(lr.maxIter, [ 120, 150, 200])\n",
    "            .build())\n",
    "\n",
    "evaluator = MulticlassClassificationEvaluator(\n",
    "    predictionCol='prediction', \n",
    "    labelCol='label', \n",
    "    metricName='accuracy'\n",
    ")\n",
    "\n",
    "lr_cv = CrossValidator(estimator=lr, estimatorParamMaps=lr_paramGrid, \n",
    "                    evaluator=evaluator, numFolds=5)\n"
   ]
  },
  {
   "cell_type": "code",
   "execution_count": 104,
   "metadata": {},
   "outputs": [],
   "source": [
    "lr_cv_model = lr_cv.fit(df_train)\n",
    "res_train = lr_cv_model.transform(df_train)\n",
    "res_test = lr_cv_model.transform(df_test)\n"
   ]
  },
  {
   "cell_type": "code",
   "execution_count": 112,
   "metadata": {},
   "outputs": [
    {
     "name": "stdout",
     "output_type": "stream",
     "text": [
      "{Param(parent='LogisticRegression_cd7128381e17', name='regParam', doc='regularization parameter (>= 0).'): 0.0, Param(parent='LogisticRegression_cd7128381e17', name='maxIter', doc='max number of iterations (>= 0).'): 150}\n"
     ]
    }
   ],
   "source": [
    "print(lr_cv_model.getEstimatorParamMaps()[np.argmax(lr_cv_model.avgMetrics)])\n"
   ]
  },
  {
   "cell_type": "code",
   "execution_count": 106,
   "metadata": {},
   "outputs": [
    {
     "name": "stdout",
     "output_type": "stream",
     "text": [
      "Test Accuracy : 80.07%\n"
     ]
    }
   ],
   "source": [
    "accuracy_test = (res_test.filter(res_test.label == res_test.prediction)\n",
    "    .count() / float(res_test.count()))\n",
    "print(f\"Test Accuracy : {np.round(accuracy_test*100,2)}%\")"
   ]
  },
  {
   "cell_type": "markdown",
   "metadata": {},
   "source": [
    "---------------------PySpark ML Random Forest------------------------"
   ]
  },
  {
   "cell_type": "code",
   "execution_count": 46,
   "metadata": {},
   "outputs": [],
   "source": [
    "# from pyspark.ml.classification import RandomForestClassifier\n",
    "# from pyspark.ml.evaluation import MulticlassClassificationEvaluator\n",
    "\n",
    "# rf = RandomForestClassifier(featuresCol = 'features', labelCol = 'label')\n",
    "# rf_model = rf.fit(df_train)"
   ]
  },
  {
   "cell_type": "code",
   "execution_count": 47,
   "metadata": {},
   "outputs": [],
   "source": [
    "import numpy as np\n",
    "from sklearn.metrics import confusion_matrix\n",
    "\n",
    "import itertools\n",
    "def plot_confusion_matrix(cm, classes,\n",
    "                          normalize=False,\n",
    "                          title='Confusion matrix',\n",
    "                          cmap=plt.cm.Blues):\n",
    "    \"\"\"\n",
    "    This function prints and plots the confusion matrix.\n",
    "    Normalization can be applied by setting `normalize=True`.\n",
    "    \"\"\"\n",
    "    if normalize:\n",
    "        cm = cm.astype('float') / cm.sum(axis=1)[:, np.newaxis]\n",
    "        print(\"Normalized confusion matrix\")\n",
    "    else:\n",
    "        print('Confusion matrix, without normalization')\n",
    "\n",
    "    print(cm)\n",
    "\n",
    "    plt.imshow(cm, interpolation='nearest', cmap=cmap)\n",
    "    plt.title(title)\n",
    "    plt.colorbar()\n",
    "    tick_marks = np.arange(len(classes))\n",
    "    plt.xticks(tick_marks, classes, rotation=45)\n",
    "    plt.yticks(tick_marks, classes)\n",
    "\n",
    "    fmt = '.2f' if normalize else 'd'\n",
    "    thresh = cm.max() / 2.\n",
    "    for i, j in itertools.product(range(cm.shape[0]), range(cm.shape[1])):\n",
    "        plt.text(j, i, format(cm[i, j], fmt),\n",
    "                 horizontalalignment=\"center\",\n",
    "                 color=\"white\" if cm[i, j] > thresh else \"black\")\n",
    "\n",
    "    plt.tight_layout()\n",
    "    plt.ylabel('True label')\n",
    "    plt.xlabel('Predicted label')"
   ]
  },
  {
   "cell_type": "code",
   "execution_count": 50,
   "metadata": {},
   "outputs": [
    {
     "name": "stdout",
     "output_type": "stream",
     "text": [
      "Random Forest Train accuracy = 86.32%, test accuracy = 86.04%\n",
      "Confusion matrix, without normalization\n",
      "[[49161   476     0     0     0     2]\n",
      " [ 3996 35061     0     0    20     0]\n",
      " [ 1016  1302   380     0   580     0]\n",
      " [  182     0     0     0     2     0]\n",
      " [  684  1757     5     0  1905     0]\n",
      " [  865   689     0     0   397   810]]\n"
     ]
    },
    {
     "data": {
      "image/png": "[encoded data removed]",
      "text/plain": [
       "<Figure size 640x480 with 2 Axes>"
      ]
     },
     "metadata": {},
     "output_type": "display_data"
    }
   ],
   "source": [
    "# # Evaluate \n",
    "\n",
    "# rf_prediction_train = rf_model.transform(df_train)\n",
    "# rf_prediction_test = rf_model.transform(df_test)\n",
    "\n",
    "# evaluator = MulticlassClassificationEvaluator(predictionCol='prediction',labelCol = 'label')\n",
    "\n",
    "# rf_accuracy_train = evaluator.evaluate(rf_prediction_train)\n",
    "# rf_accuracy_test = evaluator.evaluate(rf_prediction_test)\n",
    "\n",
    "# print(f\"Random Forest Train accuracy = {np.round(rf_accuracy_train*100,2)}%, test accuracy = {np.round(rf_accuracy_test*100,2)}%\")\n",
    "\n",
    "# # Plot confusion matrix\n",
    "\n",
    "# outcome_pandas = rf_prediction_test.select(\"label\").toPandas()\n",
    "# rf_prediction_pandas = rf_prediction_test.select(\"prediction\").toPandas()\n",
    "# outcome_names_int = [0.0,1.0,2.0,3.0,4.0, 5.0]\n",
    "# outcome_names = [\"legitimate\",\"dos\",\"malformed\",\"flood\",\"bruteforce\", \"slowite\"]\n",
    "\n",
    "# cnf_matrix = confusion_matrix(outcome_pandas, rf_prediction_pandas,labels=outcome_names_int)\n",
    "# #cnf_matrix\n",
    "# plt.figure()\n",
    "# plot_confusion_matrix(cnf_matrix, classes=outcome_names, title='Confusion matrix')\n",
    "# plt.show()\n"
   ]
  },
  {
   "cell_type": "markdown",
   "metadata": {},
   "source": [
    "The first ParamGrid we used has two params grid: rf.numTrees,[100, 200, 300], and rf.maxDepth,[10, 20, 30]. However, the test accuracy is 70%, which is significantly lower than the first model, which has a default number of trees of 20 and max depth of 5. By getting the params of best model, it is consisted of 100 trees and depth of 20. As a result, the drop of test accuracy is most likely to be attributed to overfitting. \n",
    "For the second run, the params grid was changed to [20, 30, 40, 50, 80] for number of trees and [10,15, 20] for maxDepth. The test accuracy goes up to "
   ]
  },
  {
   "cell_type": "code",
   "execution_count": 80,
   "metadata": {},
   "outputs": [
    {
     "name": "stderr",
     "output_type": "stream",
     "text": [
      "                                                                                \r"
     ]
    },
    {
     "name": "stdout",
     "output_type": "stream",
     "text": [
      "After tuning, Random Forest test accuracy = 79.31%\n"
     ]
    }
   ],
   "source": [
    "# rf_param_grid = ParamGridBuilder().addGrid(rf.numTrees,[20, 30, 40, 50, 80]).addGrid(rf.maxDepth,[5, 10, 15]).build()\n",
    " \n",
    "# rf_cv = CrossValidator(estimator=rf,estimatorParamMaps=rf_param_grid,evaluator=evaluator,numFolds=5)\n",
    "\n",
    "# rf_cv_model = rf_cv.fit(df_train)\n",
    "# rf_cv_prediction_test = lr_model.transform(df_train)\n",
    "# rf_cv_accuracy_test = evaluator.evaluate(rf_cv_prediction_test)\n",
    "# print(f\"After tuning, Random Forest test accuracy = {np.round(rf_cv_accuracy_test*100,2)}%\")\n",
    "\n"
   ]
  },
  {
   "cell_type": "code",
   "execution_count": 81,
   "metadata": {},
   "outputs": [
    {
     "name": "stdout",
     "output_type": "stream",
     "text": [
      "{Param(parent='RandomForestClassifier_fa6bddc7c9db', name='numTrees', doc='Number of trees to train (>= 1).'): 80, Param(parent='RandomForestClassifier_fa6bddc7c9db', name='maxDepth', doc='Maximum depth of the tree. (>= 0) E.g., depth 0 means 1 leaf node; depth 1 means 1 internal node + 2 leaf nodes. Must be in range [0, 30].'): 15}\n"
     ]
    }
   ],
   "source": [
    "# print(rf_cv_model.getEstimatorParamMaps()[np.argmax(rf_cv_model.avgMetrics)])\n"
   ]
  },
  {
   "cell_type": "code",
   "execution_count": 72,
   "metadata": {},
   "outputs": [
    {
     "name": "stdout",
     "output_type": "stream",
     "text": [
      "{Param(parent='RandomForestClassifier_fa6bddc7c9db', name='numTrees', doc='Number of trees to train (>= 1).'): 100, Param(parent='RandomForestClassifier_fa6bddc7c9db', name='maxDepth', doc='Maximum depth of the tree. (>= 0) E.g., depth 0 means 1 leaf node; depth 1 means 1 internal node + 2 leaf nodes. Must be in range [0, 30].'): 15}\n"
     ]
    }
   ],
   "source": [
    "# print(rf_cv_model.getEstimatorParamMaps()[np.argmax(rf_cv_model.avgMetrics)])\n"
   ]
  },
  {
   "cell_type": "markdown",
   "metadata": {},
   "source": [
    "--------------PySpark ML Multi layer Perceptron----------------------"
   ]
  },
  {
   "cell_type": "code",
   "execution_count": 113,
   "metadata": {},
   "outputs": [],
   "source": [
    "from pyspark.ml.classification import MultilayerPerceptronClassifier\n"
   ]
  },
  {
   "cell_type": "code",
   "execution_count": 137,
   "metadata": {},
   "outputs": [
    {
     "name": "stdout",
     "output_type": "stream",
     "text": [
      "Test set accuracy = 0.8107035096077497\n"
     ]
    }
   ],
   "source": [
    "layers = [30, 10, 20,  6]\n",
    "trainer = MultilayerPerceptronClassifier(maxIter=100, layers=layers, blockSize=128, seed=1234)\n",
    "\n",
    "nn_model = trainer.fit(df_train)\n",
    "\n",
    "nn_prediction_train = nn_model.transform(df_train)\n",
    "nn_prediction_test = nn_model.transform(df_test)\n",
    "\n",
    "predictionAndLabels = nn_prediction_test.select(\"prediction\", \"label\")\n",
    "evaluator = MulticlassClassificationEvaluator(metricName=\"accuracy\")\n",
    "print(\"Test set accuracy = \" + str(evaluator.evaluate(predictionAndLabels)))\n",
    "\n",
    "\n",
    "\n"
   ]
  },
  {
   "cell_type": "code",
   "execution_count": 170,
   "metadata": {},
   "outputs": [
    {
     "name": "stdout",
     "output_type": "stream",
     "text": [
      "Test set accuracy = 0.7916336555221043\n"
     ]
    }
   ],
   "source": [
    "layers1 = [30, 10, 20,  20, 6]\n",
    "trainer1 = MultilayerPerceptronClassifier(maxIter=100, layers=layers1, blockSize=128, seed=1234)\n",
    "\n",
    "nn_model1 = trainer1.fit(df_train)\n",
    "\n",
    "nn_prediction_train1 = nn_model1.transform(df_train)\n",
    "nn_prediction_test1 = nn_model1.transform(df_test)\n",
    "\n",
    "predictionAndLabels1 = nn_prediction_test1.select(\"prediction\", \"label\")\n",
    "evaluator = MulticlassClassificationEvaluator(metricName=\"accuracy\")\n",
    "print(\"Test set accuracy = \" + str(evaluator.evaluate(predictionAndLabels1)))\n",
    "\n"
   ]
  },
  {
   "cell_type": "code",
   "execution_count": 173,
   "metadata": {},
   "outputs": [],
   "source": [
    "nn_param_grid = ParamGridBuilder().addGrid(trainer.layers,\n",
    "                                           [[30, 10, 20,  6],\n",
    "                                            [30, 10, 20, 20,  6],\n",
    "                                            [30, 10, 20, 40, 6],\n",
    "                                            [30, 10, 20, 40, 20, 6]]).build()\n",
    "#  .addGrid(trainer.maxIter,[100])\n",
    "nn_cv = CrossValidator(estimator=trainer,estimatorParamMaps=nn_param_grid,evaluator=evaluator,numFolds=5)\n"
   ]
  },
  {
   "cell_type": "code",
   "execution_count": 174,
   "metadata": {},
   "outputs": [
    {
     "name": "stdout",
     "output_type": "stream",
     "text": [
      "22/11/27 17:38:26 WARN CacheManager: Asked to cache already cached data.\n",
      "22/11/27 17:38:26 WARN CacheManager: Asked to cache already cached data.\n",
      "22/11/27 17:39:46 WARN CacheManager: Asked to cache already cached data.\n",
      "22/11/27 17:39:46 WARN CacheManager: Asked to cache already cached data.\n",
      "Test set accuracy = 0.8107035096077497\n"
     ]
    }
   ],
   "source": [
    "nn_cv_model = nn_cv.fit(df_train)\n",
    "\n",
    "nn_cv_prediction_train = nn_cv_model.transform(df_train)\n",
    "nn_cv_prediction_test = nn_cv_model.transform(df_test)\n",
    "\n",
    "predictionAndLabels = nn_prediction_test.select(\"prediction\", \"label\")\n",
    "evaluator = MulticlassClassificationEvaluator(metricName=\"accuracy\")\n",
    "print(\"Test set accuracy = \" + str(evaluator.evaluate(predictionAndLabels)))\n",
    "\n"
   ]
  },
  {
   "cell_type": "markdown",
   "metadata": {},
   "source": [
    "---------------TF ---------------------------------------------------"
   ]
  },
  {
   "cell_type": "code",
   "execution_count": 143,
   "metadata": {},
   "outputs": [
    {
     "name": "stdout",
     "output_type": "stream",
     "text": [
      "2.10.0\n"
     ]
    }
   ],
   "source": [
    "from tensorflow import keras\n",
    "import tensorflow as tf  # now import the tensorflow module\n",
    "print(tf.__version__)  # make sure the version is 2.x\n",
    "# from pyspark.sql.functions import udf\n",
    "import pandas as pd\n",
    "import numpy as np"
   ]
  },
  {
   "cell_type": "code",
   "execution_count": 144,
   "metadata": {},
   "outputs": [
    {
     "name": "stderr",
     "output_type": "stream",
     "text": [
      "                                                                                \r"
     ]
    }
   ],
   "source": [
    "df_validate, df_test = df_test.randomSplit([0.5,0.5])\n",
    "to_array = udf(lambda v: v.toArray().tolist(), ArrayType(FloatType()))\n",
    "\n",
    "\n",
    "df_train_pandas = df_train.withColumn('features', to_array('features')).toPandas()\n",
    "df_validate_pandas = df_validate.withColumn('features', to_array('features')).toPandas()\n",
    "df_test_pandas = df_test.withColumn('features', to_array('features')).toPandas()\n",
    "\n",
    "x_train = tf.constant(np.array(df_train_pandas['features'].values.tolist()))\n",
    "y_train = tf.constant(np.array(df_train_pandas['label'].values.tolist()))\n",
    "\n",
    "x_validate = tf.constant(np.array(df_validate_pandas['features'].values.tolist()))\n",
    "y_validate = tf.constant(np.array(df_validate_pandas['label'].values.tolist()))\n",
    "\n",
    "\n",
    "x_test = tf.constant(np.array(df_test_pandas['features'].values.tolist()))\n",
    "y_test = tf.constant(np.array(df_test_pandas['label'].values.tolist()))"
   ]
  },
  {
   "cell_type": "code",
   "execution_count": 147,
   "metadata": {},
   "outputs": [
    {
     "name": "stdout",
     "output_type": "stream",
     "text": [
      "198/198 - 1s - loss: 0.4237 - Accuracy_epochs: 0.8005 - 747ms/epoch - 4ms/step\n"
     ]
    },
    {
     "data": {
      "text/plain": [
       "[0.4236796498298645, 0.8005070090293884]"
      ]
     },
     "execution_count": 147,
     "metadata": {},
     "output_type": "execute_result"
    }
   ],
   "source": [
    "model.evaluate(x_test,y_test,verbose = 2)"
   ]
  },
  {
   "cell_type": "markdown",
   "metadata": {},
   "source": [
    "-----------------------TF shallow NN CV------------------------------"
   ]
  },
  {
   "cell_type": "code",
   "execution_count": 178,
   "metadata": {},
   "outputs": [],
   "source": [
    "from sklearn.model_selection import KFold\n",
    "\n",
    "num_folds = 5\n",
    "HP_DEPTH_shallowNN_CV = 5\n",
    "kfold = KFold(n_splits=num_folds, shuffle=True)\n",
    "log_dir_tfShallowNN_CV = \"Desktop/\" + \"TFshallowNNCV\"\n",
    "Acc_shallow = []\n",
    "Loss_shallow = []"
   ]
  },
  {
   "cell_type": "code",
   "execution_count": 179,
   "metadata": {},
   "outputs": [],
   "source": [
    "from tensorboard.plugins.hparams import api as hp\n",
    "\n",
    "HP_WIDTH_shallowNN = hp.HParam('NN_width', hp.Discrete([15, 25, 35, 50]))\n",
    "HP_ActivationFunc_shallowNN = hp.HParam('activation_func', hp.Discrete(['tanh']))\n",
    "\n",
    "with tf.summary.create_file_writer(log_dir_tfShallowNN_CV).as_default():\n",
    "    hp.hparams_config(\n",
    "        hparams=[HP_WIDTH_shallowNN, HP_ActivationFunc_shallowNN],\n",
    "        metrics=[hp.Metric('Accuracy')],\n",
    "    )"
   ]
  },
  {
   "cell_type": "code",
   "execution_count": 180,
   "metadata": {},
   "outputs": [],
   "source": [
    "def train_test_model(hparams,logdir):\n",
    "    model = keras.Sequential()\n",
    "    \n",
    "    for _ in range(HP_DEPTH_shallowNN_CV):\n",
    "        model.add(keras.layers.Dense(hparams[HP_WIDTH_shallowNN] ,activation=hparams[HP_ActivationFunc_shallowNN]))\n",
    "        \n",
    "    model.add(keras.layers.Dense(6))\n",
    "    \n",
    "    model.compile(optimizer = 'adam',\n",
    "        loss = keras.losses.SparseCategoricalCrossentropy(from_logits=True),\n",
    "        metrics = [keras.metrics.SparseCategoricalAccuracy(name = 'Accuracy_epochs')])\n",
    "\n",
    "#     callback = [tf.keras.callbacks.TensorBoard(log_dir=logdir, histogram_freq=1)]\n",
    "    callback = tf.keras.callbacks.EarlyStopping(monitor=\"val_Accuracy_epochs\", patience = 5, min_delta=0.0003, restore_best_weights=True)\n",
    "#     By setting restore_best_weights=True in callback, the best model is used for prediction\n",
    "    history_shallowNN_CV = model.fit(x_train, y_train, epochs=15, verbose = 2,\n",
    "    callbacks=callback,\n",
    "    validation_data = (x_validate, y_validate))\n",
    "    \n",
    "    results = model.evaluate(x_test, y_test, batch_size=128)\n",
    "    \n",
    "    accuracy = np.max(history_shallowNN_CV.history[\"val_Accuracy_epochs\"])\n",
    "    return accuracy, results"
   ]
  },
  {
   "cell_type": "code",
   "execution_count": null,
   "metadata": {},
   "outputs": [],
   "source": [
    "\n",
    "for hp_activationfunc in HP_ActivationFunc_shallowNN.domain.values:\n",
    "    for width in (HP_WIDTH_shallowNN.domain.values):\n",
    "        hparams = {\n",
    "            HP_WIDTH_shallowNN: width,\n",
    "            HP_ActivationFunc_shallowNN: hp_activationfunc,\n",
    "        }\n",
    "        run_name = f\"run-WIDTH{int(hparams[HP_WIDTH_shallowNN])}-ActivationFunction{hparams[HP_ActivationFunc_shallowNN]}\"\n",
    "        print('--- Starting trial: %s' % run_name)\n",
    "        print({h.name: hparams[h] for h in hparams})\n",
    "\n",
    "        run_dir = log_dir_tfShallowNN_CV + run_name\n",
    "        accuracy, results = train_test_model(hparams,run_dir)\n",
    "        print(\"***************************test loss, test acc:\", results)\n",
    "\n",
    "        with tf.summary.create_file_writer(run_dir).as_default():\n",
    "            hp.hparams(hparams)  # record the values used in this trial\n",
    "            tf.summary.scalar(\"Accuracy\", accuracy, step=1)"
   ]
  },
  {
   "cell_type": "markdown",
   "metadata": {},
   "source": [
    "--------------------TF Deep NN CV------------------------------------"
   ]
  },
  {
   "cell_type": "code",
   "execution_count": 188,
   "metadata": {},
   "outputs": [],
   "source": [
    "from sklearn.model_selection import KFold\n",
    "\n",
    "num_folds = 5\n",
    "HP_DEPTH_DeepNN_CV = 25\n",
    "kfold = KFold(n_splits=num_folds, shuffle=True)\n",
    "log_dir_tfDeepNN_CV = \"Desktop/\" + \"TFDeepNNCV\"\n"
   ]
  },
  {
   "cell_type": "code",
   "execution_count": 189,
   "metadata": {},
   "outputs": [],
   "source": [
    "from tensorboard.plugins.hparams import api as hp\n",
    "\n",
    "HP_WIDTH_DeepNN = hp.HParam('NN_width', hp.Discrete([10, 15, 20]))\n",
    "# HP_ActivationFunc_DeepNN = hp.HParam('activation_func', hp.Discrete(['sigmoid', 'tanh']))\n",
    "HP_ActivationFunc_DeepNN = hp.HParam('activation_func', hp.Discrete(['tanh']))\n",
    "\n",
    "with tf.summary.create_file_writer(log_dir_tfDeepNN_CV).as_default():\n",
    "    hp.hparams_config(\n",
    "        hparams=[HP_WIDTH_DeepNN, HP_ActivationFunc_DeepNN],\n",
    "        metrics=[hp.Metric('Accuracy')],\n",
    "    )\n",
    "    \n",
    "    "
   ]
  },
  {
   "cell_type": "code",
   "execution_count": 190,
   "metadata": {},
   "outputs": [],
   "source": [
    "def train_test_model(hparams,logdir):\n",
    "    model = keras.Sequential()\n",
    "    \n",
    "    for _ in range(HP_DEPTH_DeepNN_CV):\n",
    "        model.add(keras.layers.Dense(hparams[HP_WIDTH_DeepNN] ,activation=hparams[HP_ActivationFunc_DeepNN]))\n",
    "        \n",
    "    model.add(keras.layers.Dense(6))\n",
    "    \n",
    "    model.compile(optimizer = 'adam',\n",
    "        loss = keras.losses.SparseCategoricalCrossentropy(from_logits=True),\n",
    "        metrics = [keras.metrics.SparseCategoricalAccuracy(name = 'Accuracy_epochs')])\n",
    "\n",
    "    #     callback = [tf.keras.callbacks.TensorBoard(log_dir=logdir, histogram_freq=1)]\n",
    "    callback = tf.keras.callbacks.EarlyStopping(monitor=\"val_Accuracy_epochs\", patience = 5, min_delta=0.0003, restore_best_weights=True)\n",
    "    history_DeepNN_CV = model.fit(x_train, y_train, epochs=15, verbose = 2,\n",
    "    callbacks=callback,\n",
    "    validation_data = (x_validate, y_validate))\n",
    "    \n",
    "    results = model.evaluate(x_test, y_test, batch_size=128)\n",
    "\n",
    "\n",
    "    accuracy = np.max(history_DeepNN_CV.history[\"val_Accuracy_epochs\"])\n",
    "    return accuracy, results\n"
   ]
  },
  {
   "cell_type": "code",
   "execution_count": null,
   "metadata": {},
   "outputs": [],
   "source": [
    "\n",
    "for hp_activationfunc in HP_ActivationFunc_DeepNN.domain.values:\n",
    "    for width in (HP_WIDTH_DeepNN.domain.values):\n",
    "        hparams = {\n",
    "            HP_WIDTH_DeepNN: width,\n",
    "            HP_ActivationFunc_DeepNN: hp_activationfunc,\n",
    "        }\n",
    "        run_name = f\"run-WIDTH{int(hparams[HP_WIDTH_DeepNN])}-ActivationFunction{hparams[HP_ActivationFunc_DeepNN]}\"\n",
    "        print('--- Starting trial: %s' % run_name)\n",
    "        print({h.name: hparams[h] for h in hparams})\n",
    "\n",
    "        run_dir = log_dir_tfDeepNN_CV + run_name\n",
    "        accuracy, results = train_test_model(hparams,run_dir)\n",
    "        print(\"***************************test loss, test acc:\", results)\n",
    "\n",
    "        with tf.summary.create_file_writer(run_dir).as_default():\n",
    "            hp.hparams(hparams)  # record the values used in this trial\n",
    "            tf.summary.scalar(\"Accuracy\", accuracy, step=1)"
   ]
  }
 ],
 "metadata": {
  "kernelspec": {
   "display_name": "Python 3 (ipykernel)",
   "language": "python",
   "name": "python3"
  },
  "language_info": {
   "codemirror_mode": {
    "name": "ipython",
    "version": 3
   },
   "file_extension": ".py",
   "mimetype": "text/x-python",
   "name": "python",
   "nbconvert_exporter": "python",
   "pygments_lexer": "ipython3",
   "version": "3.10.8"
  },
  "vscode": {
   "interpreter": {
    "hash": "aee8b7b246df8f9039afb4144a1f6fd8d2ca17a180786b69acc140d282b71a49"
   }
  }
 },
 "nbformat": 4,
 "nbformat_minor": 2
}
