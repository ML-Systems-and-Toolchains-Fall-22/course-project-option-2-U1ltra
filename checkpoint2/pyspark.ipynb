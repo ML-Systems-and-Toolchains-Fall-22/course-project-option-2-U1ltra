{
 "cells": [
  {
   "cell_type": "code",
   "execution_count": 1,
   "metadata": {},
   "outputs": [
    {
     "name": "stderr",
     "output_type": "stream",
     "text": [
      "Setting default log level to \"WARN\".\n",
      "To adjust logging level use sc.setLogLevel(newLevel). For SparkR, use setLogLevel(newLevel).\n"
     ]
    },
    {
     "name": "stdout",
     "output_type": "stream",
     "text": [
      "22/11/28 15:09:13 WARN NativeCodeLoader: Unable to load native-hadoop library for your platform... using builtin-java classes where applicable\n"
     ]
    }
   ],
   "source": [
    "import pyspark\n",
    "from pyspark import SparkContext, SparkConf, SQLContext\n",
    "from pyspark.sql import SparkSession\n",
    "\n",
    "# from pyspark.sql import SparkSession\n",
    "\n",
    "spark = SparkSession.builder.master(\"local[*]\").appName(\"ML_Model\").getOrCreate()\n",
    "# spark.conf.set(\"spark.executor.memory\", \"8g\")\n",
    "# spark.conf.set(\"spark.executor.cores\", \"4\")\n",
    "# spark.conf.set(\"spark.driver.cores\", \"4\")\n",
    "# conf = SparkConf().set(\"spark.jars\", \"/Users/sz904/Downloads/postgresql-42.2.18.jar\")\n",
    "# sc = SparkContext( conf=conf)\n",
    "\n"
   ]
  },
  {
   "cell_type": "code",
   "execution_count": 2,
   "metadata": {},
   "outputs": [],
   "source": [
    "col_names = [\n",
    "    'tcp_flags',\n",
    "    'tcp_time_delta',\n",
    "    'tcp_len',\n",
    "    'mqtt_conack_flags',\n",
    "    'mqtt_conack_flags_reserved',\n",
    "    'mqtt_conack_flags_sp',\n",
    "    'mqtt_conack_val',\n",
    "    'mqtt_conflag_cleansess',\n",
    "    'mqtt_conflag_passwd',\n",
    "    'mqtt_conflag_qos',\n",
    "    'mqtt_conflag_reserved',\n",
    "    'mqtt_conflag_retain',\n",
    "    'mqtt_conflag_uname',\n",
    "    'mqtt_conflag_willflag',\n",
    "    'mqtt_conflags',\n",
    "    'mqtt_dupflag',\n",
    "    'mqtt_hdrflags',\n",
    "    'mqtt_kalive',\n",
    "    'mqtt_len',\n",
    "    'mqtt_msg',\n",
    "    'mqtt_msgid',\n",
    "    'mqtt_msgtype',\n",
    "    'mqtt_proto_len',\n",
    "    'mqtt_protoname',\n",
    "    'mqtt_qos',\n",
    "    'mqtt_retain',\n",
    "    'mqtt_sub_qos',\n",
    "    'mqtt_suback_qos',\n",
    "    'mqtt_ver',\n",
    "    'mqtt_willmsg',\n",
    "    'mqtt_willmsg_len',\n",
    "    'mqtt_willtopic',\n",
    "    'mqtt_willtopic_len',\n",
    "    'target',\n",
    "    'dataset',\n",
    "    'tcp_flags_decimal',\n",
    "    'mqtt_conflags_decimal',\n",
    "    'mqtt_hdrflags_decimal'\n",
    "]\n",
    "\n",
    "nominal_cols = [\"mqtt_msg\"]\n",
    "\n",
    "corelated_cols_to_remove = [\"mqtt_conack_flags\",\n",
    "                     \"mqtt_conack_flags_reserved\",\n",
    "                     \"mqtt_conack_flags_sp\", \n",
    "                     \"mqtt_conflag_qos\", \n",
    "                     \"mqtt_conflag_reserved\", \n",
    "                     \"mqtt_conflag_retain\", \n",
    "                     \"mqtt_conflag_willflag\", \n",
    "                     \"mqtt_willtopic\", \n",
    "                     \"mqtt_willtopic_len\", \n",
    "                     \"mqtt_sub_qos\", \n",
    "                     \"mqtt_suback_qos\", \n",
    "                     \"mqtt_willmsg\",\n",
    "                     \"mqtt_willmsg_len\"]\n",
    "\n",
    "\n",
    "\n",
    "binary_cols = [\"mqtt_conack_val\", \n",
    "                  \"mqtt_conflag_cleansess\", \n",
    "                  \"mqtt_conflag_passwd\", \n",
    "                  \"mqtt_conflag_uname\", \n",
    "                  \"mqtt_dupflag\", \n",
    "                  \"mqtt_proto_len\", \n",
    "                  \"mqtt_protoname\", \n",
    "                  \"mqtt_qos\", \n",
    "                  \"mqtt_retain\", \n",
    "                  \"mqtt_ver\"]\n",
    "\n",
    "\n",
    "continuous_cols = [\"tcp_flags_decimal\",\n",
    "                     'tcp_time_delta',\n",
    "                     'tcp_len',\n",
    "                     'mqtt_kalive',\n",
    "                     'mqtt_len',\n",
    "                     'mqtt_msgid',\n",
    "                     'mqtt_msgtype',\n",
    "                     'mqtt_conflags_decimal', \n",
    "                     \"mqtt_hdrflags_decimal\", ]"
   ]
  },
  {
   "cell_type": "code",
   "execution_count": 3,
   "metadata": {},
   "outputs": [],
   "source": [
    "import pyspark\n",
    "from pyspark.sql import SparkSession, SQLContext\n",
    "from pyspark.ml import Pipeline,Transformer\n",
    "from pyspark.ml.feature import Imputer,StandardScaler,StringIndexer,OneHotEncoder, VectorAssembler\n",
    "\n",
    "from pyspark.sql.functions import *\n",
    "from pyspark.sql.types import *\n",
    "\n",
    "from pyspark.ml.classification import LogisticRegression\n",
    "from pyspark.ml.tuning import ParamGridBuilder, CrossValidator\n",
    "from pyspark.ml.evaluation import BinaryClassificationEvaluator, MulticlassClassificationEvaluator\n",
    "\n",
    "import numpy as np\n",
    "from matplotlib import pyplot as plt\n",
    "\n",
    "\n",
    "class OutcomeCreater(Transformer): # this defines a transformer that creates the outcome column\n",
    "    \n",
    "    def __init__(self):\n",
    "        super().__init__()\n",
    "\n",
    "    def _transform(self, dataset):\n",
    "        # label_to_binary = udf(lambda name: 0.0 if name == 'normal' else 1.0)\n",
    "        # output_df = dataset.withColumn('outcome', label_to_binary(col('class'))).drop(\"class\")  \n",
    "        # output_df = output_df.withColumn('outcome', col('outcome').cast(DoubleType()))\n",
    "        # output_df = output_df.drop('difficulty')\n",
    "        # return output_df\n",
    "\n",
    "        def converter(name):\n",
    "            if name == 'legitimate':\n",
    "                return 0\n",
    "            elif name == 'dos':\n",
    "                return 1      \n",
    "            elif name == 'malformed':\n",
    "                return 2     \n",
    "            elif name == 'flood':\n",
    "                return 3\n",
    "            elif name == 'bruteforce':\n",
    "                return 4   \n",
    "            elif name == 'slowite':\n",
    "                return 5  \n",
    "            else:\n",
    "                print(\"out of range\")\n",
    "                return None\n",
    "            \n",
    "        label_to_binary = udf(lambda name: converter(name))\n",
    "        output_df = dataset.withColumn('label', label_to_binary(col('target')))\n",
    "        output_df = output_df.drop(\"target\")  \n",
    "        output_df = output_df.withColumn('label', col('label').cast(DoubleType()))\n",
    "        return output_df\n",
    "\n",
    "class FeatureTypeCaster(Transformer): # this transformer will cast the columns as appropriate types  \n",
    "    def __init__(self):\n",
    "        super().__init__()\n",
    "\n",
    "    def _transform(self, dataset):\n",
    "        output_df = dataset\n",
    "        for col_name in binary_cols + continuous_cols:\n",
    "            output_df = output_df.withColumn(col_name,col(col_name).cast(DoubleType()))\n",
    "\n",
    "        return output_df\n",
    "class ColumnDropper(Transformer): # this transformer drops unnecessary columns\n",
    "    def __init__(self, columns_to_drop = None):\n",
    "        super().__init__()\n",
    "        self.columns_to_drop=columns_to_drop\n",
    "    def _transform(self, dataset):\n",
    "        output_df = dataset\n",
    "        for col_name in self.columns_to_drop:\n",
    "            output_df = output_df.drop(col_name)\n",
    "        return output_df\n",
    "\n"
   ]
  },
  {
   "cell_type": "code",
   "execution_count": 4,
   "metadata": {},
   "outputs": [
    {
     "name": "stderr",
     "output_type": "stream",
     "text": [
      "                                                                                \r"
     ]
    },
    {
     "name": "stdout",
     "output_type": "stream",
     "text": [
      "231646\n",
      "99290\n"
     ]
    }
   ],
   "source": [
    "train_path = \"./df_train_pandas.csv\"\n",
    "test_path = \"./df_test_pandas.csv\"\n",
    "df_train = spark.read.csv(train_path, header=True, inferSchema= True).toDF(*col_names)\n",
    "df_test = spark.read.csv(test_path, header=True, inferSchema= True).toDF(*col_names)\n",
    "print(df_train.count())\n",
    "print(df_test.count())"
   ]
  },
  {
   "cell_type": "code",
   "execution_count": 5,
   "metadata": {},
   "outputs": [],
   "source": [
    "df_train_updated = df_train\n",
    "df_train_updated = df_train_updated.drop(\"tcp_flags\")\n",
    "df_train_updated = df_train_updated.drop(\"mqtt_conflags\")\n",
    "df_train_updated = df_train_updated.drop(\"mqtt_hdrflags\")\n",
    "df_train_updated = df_train_updated.drop(\"dataset\")\n",
    "\n",
    "df_test_updated = df_test\n",
    "df_test_updated = df_test_updated.drop(\"tcp_flags\")\n",
    "df_test_updated = df_test_updated.drop(\"mqtt_conflags\")\n",
    "df_test_updated = df_test_updated.drop(\"mqtt_hdrflags\")\n",
    "df_test_updated = df_test_updated.drop(\"dataset\")\n",
    "\n",
    "\n",
    "df_train_updated = df_train_updated.drop(\"mqtt_msg\")\n",
    "df_test_updated = df_test_updated.drop(\"mqtt_msg\")\n",
    "\n",
    "df_train_updated = df_train_updated.drop(\"mqtt_conack_flags\")\n",
    "df_test_updated = df_test_updated.drop(\"mqtt_conack_flags\")\n",
    "\n",
    "df_train_updated = df_train_updated.drop(\"mqtt_protoname\")\n",
    "df_test_updated = df_test_updated.drop(\"mqtt_protoname\")"
   ]
  },
  {
   "cell_type": "code",
   "execution_count": 7,
   "metadata": {},
   "outputs": [
    {
     "name": "stdout",
     "output_type": "stream",
     "text": [
      "tcp_time_delta\n",
      "tcp_len\n",
      "mqtt_conack_flags_reserved\n",
      "mqtt_conack_flags_sp\n",
      "mqtt_conack_val\n",
      "mqtt_conflag_cleansess\n",
      "mqtt_conflag_passwd\n",
      "mqtt_conflag_qos\n",
      "mqtt_conflag_reserved\n",
      "mqtt_conflag_retain\n",
      "mqtt_conflag_uname\n",
      "mqtt_conflag_willflag\n",
      "mqtt_dupflag\n",
      "mqtt_kalive\n",
      "mqtt_len\n",
      "mqtt_msgid\n",
      "mqtt_msgtype\n",
      "mqtt_proto_len\n",
      "mqtt_qos\n",
      "mqtt_retain\n",
      "mqtt_sub_qos\n",
      "mqtt_suback_qos\n",
      "mqtt_ver\n",
      "mqtt_willmsg\n",
      "mqtt_willmsg_len\n",
      "mqtt_willtopic\n",
      "mqtt_willtopic_len\n",
      "tcp_flags_decimal\n",
      "mqtt_conflags_decimal\n",
      "mqtt_hdrflags_decimal\n",
      "['tcp_time_delta', 'tcp_len', 'mqtt_conack_flags_reserved', 'mqtt_conack_flags_sp', 'mqtt_conack_val', 'mqtt_conflag_cleansess', 'mqtt_conflag_passwd', 'mqtt_conflag_qos', 'mqtt_conflag_reserved', 'mqtt_conflag_retain', 'mqtt_conflag_uname', 'mqtt_conflag_willflag', 'mqtt_dupflag', 'mqtt_kalive', 'mqtt_len', 'mqtt_msgid', 'mqtt_msgtype', 'mqtt_proto_len', 'mqtt_qos', 'mqtt_retain', 'mqtt_sub_qos', 'mqtt_suback_qos', 'mqtt_ver', 'mqtt_willmsg', 'mqtt_willmsg_len', 'mqtt_willtopic', 'mqtt_willtopic_len', 'tcp_flags_decimal', 'mqtt_conflags_decimal', 'mqtt_hdrflags_decimal']\n"
     ]
    }
   ],
   "source": [
    "outcomeCreate = OutcomeCreater()\n",
    "stage_vector_assembler = VectorAssembler(inputCols=[column for column in df_train_updated.columns if column != 'target'], outputCol=\"vectorized_features\")\n",
    "stage_scaler = StandardScaler(inputCol= 'vectorized_features', outputCol= 'features')\n",
    "\n",
    "for i in [column for column in df_train_updated.columns if column != 'target']:\n",
    "    print(i)\n",
    "print([column for column in df_train_updated.columns if column != 'target'])"
   ]
  },
  {
   "cell_type": "code",
   "execution_count": 51,
   "metadata": {},
   "outputs": [
    {
     "name": "stderr",
     "output_type": "stream",
     "text": [
      "                                                                                \r"
     ]
    },
    {
     "name": "stdout",
     "output_type": "stream",
     "text": [
      "root\n",
      " |-- tcp_time_delta: double (nullable = true)\n",
      " |-- tcp_len: integer (nullable = true)\n",
      " |-- mqtt_conack_flags_reserved: double (nullable = true)\n",
      " |-- mqtt_conack_flags_sp: double (nullable = true)\n",
      " |-- mqtt_conack_val: double (nullable = true)\n",
      " |-- mqtt_conflag_cleansess: double (nullable = true)\n",
      " |-- mqtt_conflag_passwd: double (nullable = true)\n",
      " |-- mqtt_conflag_qos: double (nullable = true)\n",
      " |-- mqtt_conflag_reserved: double (nullable = true)\n",
      " |-- mqtt_conflag_retain: double (nullable = true)\n",
      " |-- mqtt_conflag_uname: double (nullable = true)\n",
      " |-- mqtt_conflag_willflag: double (nullable = true)\n",
      " |-- mqtt_dupflag: double (nullable = true)\n",
      " |-- mqtt_kalive: double (nullable = true)\n",
      " |-- mqtt_len: double (nullable = true)\n",
      " |-- mqtt_msgid: double (nullable = true)\n",
      " |-- mqtt_msgtype: double (nullable = true)\n",
      " |-- mqtt_proto_len: double (nullable = true)\n",
      " |-- mqtt_qos: double (nullable = true)\n",
      " |-- mqtt_retain: double (nullable = true)\n",
      " |-- mqtt_sub_qos: double (nullable = true)\n",
      " |-- mqtt_suback_qos: double (nullable = true)\n",
      " |-- mqtt_ver: double (nullable = true)\n",
      " |-- mqtt_willmsg: double (nullable = true)\n",
      " |-- mqtt_willmsg_len: double (nullable = true)\n",
      " |-- mqtt_willtopic: double (nullable = true)\n",
      " |-- mqtt_willtopic_len: double (nullable = true)\n",
      " |-- tcp_flags_decimal: integer (nullable = true)\n",
      " |-- mqtt_conflags_decimal: integer (nullable = true)\n",
      " |-- mqtt_hdrflags_decimal: integer (nullable = true)\n",
      " |-- label: double (nullable = true)\n",
      " |-- vectorized_features: vector (nullable = true)\n",
      " |-- features: vector (nullable = true)\n",
      "\n"
     ]
    }
   ],
   "source": [
    "buffer = outcomeCreate.transform(df_train_updated)\n",
    "buffer = stage_vector_assembler.transform(buffer)\n",
    "scaler_model = stage_scaler.fit(buffer)\n",
    "buffer = scaler_model.transform(buffer)\n",
    "buffer.printSchema()"
   ]
  },
  {
   "cell_type": "code",
   "execution_count": 53,
   "metadata": {},
   "outputs": [
    {
     "name": "stdout",
     "output_type": "stream",
     "text": [
      "root\n",
      " |-- label: double (nullable = true)\n",
      " |-- features: vector (nullable = true)\n",
      "\n"
     ]
    }
   ],
   "source": [
    "dropper = ColumnDropper(\n",
    "    [column for column in buffer.columns if column != 'label' and column != 'features']\n",
    ")\n",
    "buffer = dropper.transform(buffer)\n",
    "buffer.printSchema()"
   ]
  },
  {
   "cell_type": "code",
   "execution_count": 61,
   "metadata": {},
   "outputs": [],
   "source": [
    "# logistic model\n",
    "lr = LogisticRegression(featuresCol = 'features', labelCol = 'label')\n",
    "\n",
    "# cross validation\n",
    "lr_paramGrid = (ParamGridBuilder()\n",
    "            .addGrid(lr.regParam, [0.01, 0.5, 2.0])\n",
    "            .addGrid(lr.maxIter, [1, 5, 10])\n",
    "            .build())\n",
    "\n",
    "evaluator = MulticlassClassificationEvaluator(\n",
    "    predictionCol='prediction', \n",
    "    labelCol='label', \n",
    "    metricName='accuracy'\n",
    ")\n",
    "\n",
    "lr_cv = CrossValidator(estimator=lr, estimatorParamMaps=lr_paramGrid, \n",
    "                    evaluator=evaluator, numFolds=5)\n"
   ]
  },
  {
   "cell_type": "code",
   "execution_count": 62,
   "metadata": {},
   "outputs": [
    {
     "name": "stdout",
     "output_type": "stream",
     "text": [
      "22/11/26 23:05:46 WARN CacheManager: Asked to cache already cached data.\n",
      "22/11/26 23:05:46 WARN CacheManager: Asked to cache already cached data.\n"
     ]
    },
    {
     "name": "stderr",
     "output_type": "stream",
     "text": [
      "                                                                                \r"
     ]
    }
   ],
   "source": [
    "lr_model = lr_cv.fit(buffer)\n",
    "res = lr_model.transform(buffer)"
   ]
  },
  {
   "cell_type": "code",
   "execution_count": 63,
   "metadata": {},
   "outputs": [
    {
     "name": "stderr",
     "output_type": "stream",
     "text": [
      "[Stage 1126:=======>                                                (1 + 7) / 8]\r"
     ]
    },
    {
     "name": "stdout",
     "output_type": "stream",
     "text": [
      "Test Accuracy : 77.49%\n"
     ]
    },
    {
     "name": "stderr",
     "output_type": "stream",
     "text": [
      "                                                                                \r"
     ]
    }
   ],
   "source": [
    "accuracy_test = (res.filter(res.label == res.prediction)\n",
    "    .count() / float(res.count()))\n",
    "print(f\"Test Accuracy : {np.round(accuracy_test*100,2)}%\")"
   ]
  },
  {
   "cell_type": "code",
   "execution_count": 27,
   "metadata": {},
   "outputs": [
    {
     "name": "stdout",
     "output_type": "stream",
     "text": [
      "root\n",
      " |-- tcp_time_delta: double (nullable = true)\n",
      " |-- tcp_len: integer (nullable = true)\n",
      " |-- mqtt_conack_flags: string (nullable = true)\n",
      " |-- mqtt_conack_flags_reserved: double (nullable = true)\n",
      " |-- mqtt_conack_flags_sp: double (nullable = true)\n",
      " |-- mqtt_conack_val: double (nullable = true)\n",
      " |-- mqtt_conflag_cleansess: double (nullable = true)\n",
      " |-- mqtt_conflag_passwd: double (nullable = true)\n",
      " |-- mqtt_conflag_qos: double (nullable = true)\n",
      " |-- mqtt_conflag_reserved: double (nullable = true)\n",
      " |-- mqtt_conflag_retain: double (nullable = true)\n",
      " |-- mqtt_conflag_uname: double (nullable = true)\n",
      " |-- mqtt_conflag_willflag: double (nullable = true)\n",
      " |-- mqtt_dupflag: double (nullable = true)\n",
      " |-- mqtt_kalive: double (nullable = true)\n",
      " |-- mqtt_len: double (nullable = true)\n",
      " |-- mqtt_msgid: double (nullable = true)\n",
      " |-- mqtt_msgtype: double (nullable = true)\n",
      " |-- mqtt_proto_len: double (nullable = true)\n",
      " |-- mqtt_protoname: string (nullable = true)\n",
      " |-- mqtt_qos: double (nullable = true)\n",
      " |-- mqtt_retain: double (nullable = true)\n",
      " |-- mqtt_sub_qos: double (nullable = true)\n",
      " |-- mqtt_suback_qos: double (nullable = true)\n",
      " |-- mqtt_ver: double (nullable = true)\n",
      " |-- mqtt_willmsg: double (nullable = true)\n",
      " |-- mqtt_willmsg_len: double (nullable = true)\n",
      " |-- mqtt_willtopic: double (nullable = true)\n",
      " |-- mqtt_willtopic_len: double (nullable = true)\n",
      " |-- target: string (nullable = true)\n",
      " |-- tcp_flags_decimal: integer (nullable = true)\n",
      " |-- mqtt_conflags_decimal: integer (nullable = true)\n",
      " |-- mqtt_hdrflags_decimal: integer (nullable = true)\n",
      "\n"
     ]
    }
   ],
   "source": [
    "df_train_updated.printSchema()"
   ]
  },
  {
   "cell_type": "code",
   "execution_count": null,
   "metadata": {},
   "outputs": [],
   "source": []
  }
 ],
 "metadata": {
  "kernelspec": {
   "display_name": "Python 3.10.6 ('14813_env3')",
   "language": "python",
   "name": "python3"
  },
  "language_info": {
   "codemirror_mode": {
    "name": "ipython",
    "version": 3
   },
   "file_extension": ".py",
   "mimetype": "text/x-python",
   "name": "python",
   "nbconvert_exporter": "python",
   "pygments_lexer": "ipython3",
   "version": "3.10.6"
  },
  "vscode": {
   "interpreter": {
    "hash": "52f74e7d88555cb267b58ca4c1e5b9af65a666ec35b733fc0be720f123c4a94d"
   }
  }
 },
 "nbformat": 4,
 "nbformat_minor": 2
}
