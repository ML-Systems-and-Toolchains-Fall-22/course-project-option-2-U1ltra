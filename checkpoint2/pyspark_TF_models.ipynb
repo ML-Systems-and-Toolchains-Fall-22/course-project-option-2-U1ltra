{
 "cells": [
  {
   "cell_type": "code",
   "execution_count": 1,
   "metadata": {},
   "outputs": [
    {
     "name": "stdout",
     "output_type": "stream",
     "text": [
      "22/11/28 19:51:22 WARN Utils: Your hostname, STEVENs-MacBook-Pro-4.local resolves to a loopback address: 127.0.0.1; using 172.25.2.158 instead (on interface en0)\n",
      "22/11/28 19:51:22 WARN Utils: Set SPARK_LOCAL_IP if you need to bind to another address\n"
     ]
    },
    {
     "name": "stderr",
     "output_type": "stream",
     "text": [
      "Setting default log level to \"WARN\".\n",
      "To adjust logging level use sc.setLogLevel(newLevel). For SparkR, use setLogLevel(newLevel).\n"
     ]
    },
    {
     "name": "stdout",
     "output_type": "stream",
     "text": [
      "22/11/28 19:51:22 WARN NativeCodeLoader: Unable to load native-hadoop library for your platform... using builtin-java classes where applicable\n",
      "22/11/28 19:51:23 WARN Utils: Service 'SparkUI' could not bind on port 4040. Attempting port 4041.\n",
      "22/11/28 19:51:23 WARN Utils: Service 'SparkUI' could not bind on port 4041. Attempting port 4042.\n",
      "22/11/28 19:51:23 WARN Utils: Service 'SparkUI' could not bind on port 4042. Attempting port 4043.\n"
     ]
    }
   ],
   "source": [
    "import pyspark\n",
    "from pyspark import SparkContext, SparkConf, SQLContext\n",
    "from pyspark.sql import SparkSession\n",
    "\n",
    "# from pyspark.sql import SparkSession\n",
    "\n",
    "spark = SparkSession.builder.appName(\"ML_Models\").getOrCreate()\n",
    "# spark.conf.set(\"spark.executor.memory\", \"8g\")\n",
    "# spark.conf.set(\"spark.executor.cores\", \"4\")\n",
    "# spark.conf.set(\"spark.driver.cores\", \"4\")\n",
    "# conf = SparkConf().set(\"spark.jars\", \"/Users/sz904/Downloads/postgresql-42.2.18.jar\")\n",
    "# sc = SparkContext( conf=conf)\n",
    "\n"
   ]
  },
  {
   "cell_type": "code",
   "execution_count": 2,
   "metadata": {},
   "outputs": [],
   "source": [
    "col_names = [\n",
    "    'tcp_flags',\n",
    "    'tcp_time_delta',\n",
    "    'tcp_len',\n",
    "    'mqtt_conack_flags',\n",
    "    'mqtt_conack_flags_reserved',\n",
    "    'mqtt_conack_flags_sp',\n",
    "    'mqtt_conack_val',\n",
    "    'mqtt_conflag_cleansess',\n",
    "    'mqtt_conflag_passwd',\n",
    "    'mqtt_conflag_qos',\n",
    "    'mqtt_conflag_reserved',\n",
    "    'mqtt_conflag_retain',\n",
    "    'mqtt_conflag_uname',\n",
    "    'mqtt_conflag_willflag',\n",
    "    'mqtt_conflags',\n",
    "    'mqtt_dupflag',\n",
    "    'mqtt_hdrflags',\n",
    "    'mqtt_kalive',\n",
    "    'mqtt_len',\n",
    "    'mqtt_msg',\n",
    "    'mqtt_msgid',\n",
    "    'mqtt_msgtype',\n",
    "    'mqtt_proto_len',\n",
    "    'mqtt_protoname',\n",
    "    'mqtt_qos',\n",
    "    'mqtt_retain',\n",
    "    'mqtt_sub_qos',\n",
    "    'mqtt_suback_qos',\n",
    "    'mqtt_ver',\n",
    "    'mqtt_willmsg',\n",
    "    'mqtt_willmsg_len',\n",
    "    'mqtt_willtopic',\n",
    "    'mqtt_willtopic_len',\n",
    "    'target',\n",
    "    'dataset',\n",
    "    'tcp_flags_decimal',\n",
    "    'mqtt_conflags_decimal',\n",
    "    'mqtt_hdrflags_decimal'\n",
    "]\n",
    "\n",
    "nominal_cols = [\"mqtt_msg\"]\n",
    "\n",
    "corelated_cols_to_remove = [\"mqtt_conack_flags\",\n",
    "                     \"mqtt_conack_flags_reserved\",\n",
    "                     \"mqtt_conack_flags_sp\", \n",
    "                     \"mqtt_conflag_qos\", \n",
    "                     \"mqtt_conflag_reserved\", \n",
    "                     \"mqtt_conflag_retain\", \n",
    "                     \"mqtt_conflag_willflag\", \n",
    "                     \"mqtt_willtopic\", \n",
    "                     \"mqtt_willtopic_len\", \n",
    "                     \"mqtt_sub_qos\", \n",
    "                     \"mqtt_suback_qos\", \n",
    "                     \"mqtt_willmsg\",\n",
    "                     \"mqtt_willmsg_len\"]\n",
    "\n",
    "\n",
    "\n",
    "binary_cols = [\"mqtt_conack_val\", \n",
    "                  \"mqtt_conflag_cleansess\", \n",
    "                  \"mqtt_conflag_passwd\", \n",
    "                  \"mqtt_conflag_uname\", \n",
    "                  \"mqtt_dupflag\", \n",
    "                  \"mqtt_proto_len\", \n",
    "                  \"mqtt_protoname\", \n",
    "                  \"mqtt_qos\", \n",
    "                  \"mqtt_retain\", \n",
    "                  \"mqtt_ver\"]\n",
    "\n",
    "\n",
    "continuous_cols = [\"tcp_flags_decimal\",\n",
    "                     'tcp_time_delta',\n",
    "                     'tcp_len',\n",
    "                     'mqtt_kalive',\n",
    "                     'mqtt_len',\n",
    "                     'mqtt_msgid',\n",
    "                     'mqtt_msgtype',\n",
    "                     'mqtt_conflags_decimal', \n",
    "                     \"mqtt_hdrflags_decimal\", ]"
   ]
  },
  {
   "cell_type": "code",
   "execution_count": 3,
   "metadata": {},
   "outputs": [],
   "source": [
    "import pyspark\n",
    "from pyspark.sql import SparkSession, SQLContext\n",
    "from pyspark.ml import Pipeline,Transformer\n",
    "from pyspark.ml.feature import Imputer,StandardScaler,StringIndexer,OneHotEncoder, VectorAssembler\n",
    "\n",
    "from pyspark.sql.functions import *\n",
    "from pyspark.sql.types import *\n",
    "\n",
    "from pyspark.ml.classification import LogisticRegression\n",
    "from pyspark.ml.tuning import ParamGridBuilder, CrossValidator\n",
    "from pyspark.ml.evaluation import BinaryClassificationEvaluator, MulticlassClassificationEvaluator\n",
    "\n",
    "import numpy as np\n",
    "from matplotlib import pyplot as plt\n",
    "\n",
    "\n",
    "class OutcomeCreater(Transformer): # this defines a transformer that creates the outcome column\n",
    "    \n",
    "    def __init__(self):\n",
    "        super().__init__()\n",
    "\n",
    "    def _transform(self, dataset):\n",
    "        # label_to_binary = udf(lambda name: 0.0 if name == 'normal' else 1.0)\n",
    "        # output_df = dataset.withColumn('outcome', label_to_binary(col('class'))).drop(\"class\")  \n",
    "        # output_df = output_df.withColumn('outcome', col('outcome').cast(DoubleType()))\n",
    "        # output_df = output_df.drop('difficulty')\n",
    "        # return output_df\n",
    "\n",
    "        def converter(name):\n",
    "            if name == 'legitimate':\n",
    "                return 0\n",
    "            elif name == 'dos':\n",
    "                return 1      \n",
    "            elif name == 'malformed':\n",
    "                return 2     \n",
    "            elif name == 'flood':\n",
    "                return 3\n",
    "            elif name == 'bruteforce':\n",
    "                return 4   \n",
    "            elif name == 'slowite':\n",
    "                return 5  \n",
    "            else:\n",
    "                print(\"out of range\")\n",
    "                return None\n",
    "            \n",
    "        label_to_binary = udf(lambda name: converter(name))\n",
    "        output_df = dataset.withColumn('label', label_to_binary(col('target')))\n",
    "        output_df = output_df.drop(\"target\")  \n",
    "        output_df = output_df.withColumn('label', col('label').cast(DoubleType()))\n",
    "        return output_df\n",
    "\n",
    "class FeatureTypeCaster(Transformer): # this transformer will cast the columns as appropriate types  \n",
    "    def __init__(self):\n",
    "        super().__init__()\n",
    "\n",
    "    def _transform(self, dataset):\n",
    "        output_df = dataset\n",
    "        for col_name in binary_cols + continuous_cols:\n",
    "            output_df = output_df.withColumn(col_name,col(col_name).cast(DoubleType()))\n",
    "\n",
    "        return output_df\n",
    "class ColumnDropper(Transformer): # this transformer drops unnecessary columns\n",
    "    def __init__(self, columns_to_drop = None):\n",
    "        super().__init__()\n",
    "        self.columns_to_drop=columns_to_drop\n",
    "    def _transform(self, dataset):\n",
    "        output_df = dataset\n",
    "        for col_name in self.columns_to_drop:\n",
    "            output_df = output_df.drop(col_name)\n",
    "        return output_df\n",
    "\n"
   ]
  },
  {
   "cell_type": "code",
   "execution_count": 4,
   "metadata": {},
   "outputs": [
    {
     "name": "stderr",
     "output_type": "stream",
     "text": [
      "                                                                                \r"
     ]
    },
    {
     "name": "stdout",
     "output_type": "stream",
     "text": [
      "231646\n",
      "99290\n"
     ]
    }
   ],
   "source": [
    "train_path = \"df_train_pandas.csv\"\n",
    "test_path = \"df_test_pandas.csv\"\n",
    "df_train_updated = spark.read.csv(train_path, header=True, inferSchema= True).toDF(*col_names)\n",
    "df_test_updated = spark.read.csv(test_path, header=True, inferSchema= True).toDF(*col_names)\n",
    "print(df_train_updated.count())\n",
    "print(df_test_updated.count())\n"
   ]
  },
  {
   "cell_type": "code",
   "execution_count": 5,
   "metadata": {},
   "outputs": [],
   "source": [
    "df_train_updated = df_train_updated.drop(\"tcp_flags\")\n",
    "df_train_updated = df_train_updated.drop(\"mqtt_conflags\")\n",
    "df_train_updated = df_train_updated.drop(\"mqtt_hdrflags\")\n",
    "df_train_updated = df_train_updated.drop(\"dataset\")\n",
    "\n",
    "df_test_updated = df_test_updated.drop(\"tcp_flags\")\n",
    "df_test_updated = df_test_updated.drop(\"mqtt_conflags\")\n",
    "df_test_updated = df_test_updated.drop(\"mqtt_hdrflags\")\n",
    "df_test_updated = df_test_updated.drop(\"dataset\")\n",
    "\n",
    "\n",
    "df_train_updated = df_train_updated.drop(\"mqtt_msg\")\n",
    "df_test_updated = df_test_updated.drop(\"mqtt_msg\")\n",
    "\n",
    "df_train_updated = df_train_updated.drop(\"mqtt_conack_flags\")\n",
    "df_test_updated = df_test_updated.drop(\"mqtt_conack_flags\")\n",
    "\n",
    "df_train_updated = df_train_updated.drop(\"mqtt_protoname\")\n",
    "df_test_updated = df_test_updated.drop(\"mqtt_protoname\")"
   ]
  },
  {
   "cell_type": "code",
   "execution_count": 6,
   "metadata": {},
   "outputs": [
    {
     "data": {
      "text/plain": [
       "30"
      ]
     },
     "execution_count": 6,
     "metadata": {},
     "output_type": "execute_result"
    }
   ],
   "source": [
    "outcomeCreate = OutcomeCreater()\n",
    "stage_vector_assembler = VectorAssembler(inputCols=[column for column in df_train_updated.columns if column != 'target'], outputCol=\"vectorized_features\")\n",
    "stage_scaler = StandardScaler(inputCol= 'vectorized_features', outputCol= 'features')\n",
    "len(stage_vector_assembler.getInputCols())\n"
   ]
  },
  {
   "cell_type": "code",
   "execution_count": 7,
   "metadata": {},
   "outputs": [
    {
     "name": "stdout",
     "output_type": "stream",
     "text": [
      "22/11/28 19:52:04 WARN package: Truncated the string representation of a plan since it was too large. This behavior can be adjusted by setting 'spark.sql.debug.maxToStringFields'.\n"
     ]
    },
    {
     "name": "stderr",
     "output_type": "stream",
     "text": [
      "                                                                                \r"
     ]
    }
   ],
   "source": [
    "df_train = outcomeCreate.transform(df_train_updated)\n",
    "df_train = stage_vector_assembler.transform(df_train)\n",
    "scaler_model = stage_scaler.fit(df_train)\n",
    "df_train = scaler_model.transform(df_train)\n",
    "# df_train.printSchema()"
   ]
  },
  {
   "cell_type": "code",
   "execution_count": 8,
   "metadata": {},
   "outputs": [],
   "source": [
    "df_test = outcomeCreate.transform(df_test_updated)\n",
    "df_test = stage_vector_assembler.transform(df_test)\n",
    "df_test = scaler_model.transform(df_test)\n",
    "# df_test.printSchema()"
   ]
  },
  {
   "cell_type": "code",
   "execution_count": 9,
   "metadata": {},
   "outputs": [
    {
     "name": "stdout",
     "output_type": "stream",
     "text": [
      "root\n",
      " |-- label: double (nullable = true)\n",
      " |-- features: vector (nullable = true)\n",
      "\n"
     ]
    }
   ],
   "source": [
    "dropper = ColumnDropper(\n",
    "    [column for column in df_train.columns if column != 'label' and column != 'features']\n",
    ")\n",
    "\n",
    "df_train = dropper.transform(df_train)\n",
    "df_test = dropper.transform(df_test)\n",
    "df_train.printSchema()\n"
   ]
  },
  {
   "cell_type": "markdown",
   "metadata": {},
   "source": [
    "------------------Pyspark ML- Logistic Regression------------------------"
   ]
  },
  {
   "cell_type": "code",
   "execution_count": 10,
   "metadata": {},
   "outputs": [],
   "source": [
    "# logistic model\n",
    "lr = LogisticRegression(featuresCol = 'features', labelCol = 'label')\n",
    "#### default regparam 0, default maxIter = 100. "
   ]
  },
  {
   "cell_type": "code",
   "execution_count": 11,
   "metadata": {},
   "outputs": [
    {
     "name": "stderr",
     "output_type": "stream",
     "text": [
      "                                                                                \r"
     ]
    },
    {
     "name": "stdout",
     "output_type": "stream",
     "text": [
      "22/11/28 19:52:11 WARN InstanceBuilder$JavaBLAS: Failed to load implementation from:dev.ludovic.netlib.blas.VectorBLAS\n",
      "22/11/28 19:52:11 WARN InstanceBuilder$NativeBLAS: Failed to load implementation from:dev.ludovic.netlib.blas.JNIBLAS\n",
      "22/11/28 19:52:11 WARN InstanceBuilder$NativeBLAS: Failed to load implementation from:dev.ludovic.netlib.blas.ForeignLinkerBLAS\n"
     ]
    },
    {
     "name": "stderr",
     "output_type": "stream",
     "text": [
      "                                                                                \r"
     ]
    },
    {
     "name": "stdout",
     "output_type": "stream",
     "text": [
      "Logistic Regression Train accuracy = 80.45%, test accuracy = 80.48%\n"
     ]
    }
   ],
   "source": [
    "lr_model = lr.fit(df_train)\n",
    "evaluator = MulticlassClassificationEvaluator(\n",
    "    predictionCol='prediction', \n",
    "    labelCol='label', \n",
    "    metricName='accuracy'\n",
    ")\n",
    "lr_prediction_train = lr_model.transform(df_train)\n",
    "lr_prediction_test = lr_model.transform(df_test)\n",
    "lr_accuracy_train = evaluator.evaluate(lr_prediction_train)\n",
    "lr_accuracy_test = evaluator.evaluate(lr_prediction_test)\n",
    "print(f\"Logistic Regression Train accuracy = {np.round(lr_accuracy_train*100,2)}%, test accuracy = {np.round(lr_accuracy_test*100,2)}%\")\n"
   ]
  },
  {
   "cell_type": "code",
   "execution_count": 12,
   "metadata": {},
   "outputs": [
    {
     "data": {
      "text/plain": [
       "100"
      ]
     },
     "execution_count": 12,
     "metadata": {},
     "output_type": "execute_result"
    }
   ],
   "source": [
    "lr_model.getMaxIter()"
   ]
  },
  {
   "cell_type": "code",
   "execution_count": 13,
   "metadata": {},
   "outputs": [],
   "source": [
    "\n",
    "\n",
    "# cross validation\n",
    "lr_paramGrid = (ParamGridBuilder()\n",
    "            .addGrid(lr.regParam, [0, 0.0001, 0.001])\n",
    "            .addGrid(lr.maxIter, [ 100, 120, 150, 200])\n",
    "            .build())\n",
    "\n",
    "evaluator = MulticlassClassificationEvaluator(\n",
    "    predictionCol='prediction', \n",
    "    labelCol='label', \n",
    "    metricName='accuracy'\n",
    ")\n",
    "\n",
    "lr_cv = CrossValidator(estimator=lr, estimatorParamMaps=lr_paramGrid, \n",
    "                    evaluator=evaluator, numFolds=5)\n"
   ]
  },
  {
   "cell_type": "code",
   "execution_count": 14,
   "metadata": {},
   "outputs": [],
   "source": [
    "lr_cv_model = lr_cv.fit(df_train)\n",
    "res_train = lr_cv_model.transform(df_train)\n",
    "res_test = lr_cv_model.transform(df_test)\n"
   ]
  },
  {
   "cell_type": "code",
   "execution_count": 15,
   "metadata": {},
   "outputs": [
    {
     "name": "stdout",
     "output_type": "stream",
     "text": [
      "{Param(parent='LogisticRegression_4569534dad0d', name='regParam', doc='regularization parameter (>= 0).'): 0.0, Param(parent='LogisticRegression_4569534dad0d', name='maxIter', doc='max number of iterations (>= 0).'): 200}\n"
     ]
    }
   ],
   "source": [
    "print(lr_cv_model.getEstimatorParamMaps()[np.argmax(lr_cv_model.avgMetrics)])\n"
   ]
  },
  {
   "cell_type": "code",
   "execution_count": 16,
   "metadata": {},
   "outputs": [
    {
     "name": "stdout",
     "output_type": "stream",
     "text": [
      "Test Accuracy : 80.48%\n"
     ]
    }
   ],
   "source": [
    "accuracy_test = (res_test.filter(res_test.label == res_test.prediction)\n",
    "    .count() / float(res_test.count()))\n",
    "print(f\"Test Accuracy : {np.round(accuracy_test*100,2)}%\")"
   ]
  },
  {
   "cell_type": "markdown",
   "metadata": {},
   "source": [
    "--------------PySpark ML Multi layer Perceptron----------------------"
   ]
  },
  {
   "cell_type": "code",
   "execution_count": 26,
   "metadata": {},
   "outputs": [],
   "source": [
    "from pyspark.ml.classification import MultilayerPerceptronClassifier\n"
   ]
  },
  {
   "cell_type": "code",
   "execution_count": 27,
   "metadata": {},
   "outputs": [
    {
     "name": "stderr",
     "output_type": "stream",
     "text": [
      "[Stage 7739:============================>                           (2 + 2) / 4]\r"
     ]
    },
    {
     "name": "stdout",
     "output_type": "stream",
     "text": [
      "Test set accuracy = 0.8052573270218552\n"
     ]
    },
    {
     "name": "stderr",
     "output_type": "stream",
     "text": [
      "                                                                                \r"
     ]
    }
   ],
   "source": [
    "layers = [30, 10, 20,  6]\n",
    "trainer = MultilayerPerceptronClassifier(maxIter=100, layers=layers, blockSize=128, seed=1234)\n",
    "\n",
    "nn_model = trainer.fit(df_train)\n",
    "\n",
    "nn_prediction_train = nn_model.transform(df_train)\n",
    "nn_prediction_test = nn_model.transform(df_test)\n",
    "\n",
    "predictionAndLabels = nn_prediction_test.select(\"prediction\", \"label\")\n",
    "evaluator = MulticlassClassificationEvaluator(metricName=\"accuracy\")\n",
    "print(\"Test set accuracy = \" + str(evaluator.evaluate(predictionAndLabels)))\n",
    "\n",
    "\n",
    "\n"
   ]
  },
  {
   "cell_type": "code",
   "execution_count": 28,
   "metadata": {},
   "outputs": [
    {
     "name": "stderr",
     "output_type": "stream",
     "text": [
      "                                                                                \r"
     ]
    },
    {
     "name": "stdout",
     "output_type": "stream",
     "text": [
      "Test set accuracy = 0.7932118038070299\n"
     ]
    },
    {
     "name": "stderr",
     "output_type": "stream",
     "text": [
      "                                                                                \r"
     ]
    }
   ],
   "source": [
    "layers1 = [30, 10, 20,  20, 6]\n",
    "trainer1 = MultilayerPerceptronClassifier(maxIter=100, layers=layers1, blockSize=128, seed=1234)\n",
    "\n",
    "nn_model1 = trainer1.fit(df_train)\n",
    "\n",
    "nn_prediction_train1 = nn_model1.transform(df_train)\n",
    "nn_prediction_test1 = nn_model1.transform(df_test)\n",
    "\n",
    "predictionAndLabels1 = nn_prediction_test1.select(\"prediction\", \"label\")\n",
    "evaluator = MulticlassClassificationEvaluator(metricName=\"accuracy\")\n",
    "print(\"Test set accuracy = \" + str(evaluator.evaluate(predictionAndLabels1)))\n",
    "\n"
   ]
  },
  {
   "cell_type": "code",
   "execution_count": null,
   "metadata": {},
   "outputs": [],
   "source": [
    "nn_param_grid = ParamGridBuilder().addGrid(trainer.layers,\n",
    "                                           [[30, 10, 20,  6],\n",
    "                                            [30, 10, 20, 20,  6],\n",
    "                                            [30, 10, 20, 40, 6],\n",
    "                                            [30, 10, 20, 40, 20, 6]]).build()\n",
    "#  .addGrid(trainer.maxIter,[100])\n",
    "nn_cv = CrossValidator(estimator=trainer,estimatorParamMaps=nn_param_grid,evaluator=evaluator,numFolds=5)\n"
   ]
  },
  {
   "cell_type": "code",
   "execution_count": null,
   "metadata": {},
   "outputs": [
    {
     "name": "stderr",
     "output_type": "stream",
     "text": [
      "                                                                                \r"
     ]
    }
   ],
   "source": [
    "nn_cv_model = nn_cv.fit(df_train)\n",
    "\n",
    "nn_cv_prediction_train = nn_cv_model.transform(df_train)\n",
    "nn_cv_prediction_test = nn_cv_model.transform(df_test)\n",
    "\n",
    "predictionAndLabels = nn_prediction_test.select(\"prediction\", \"label\")\n",
    "evaluator = MulticlassClassificationEvaluator(metricName=\"accuracy\")\n",
    "print(\"Test set accuracy = \" + str(evaluator.evaluate(predictionAndLabels)))\n",
    "\n"
   ]
  },
  {
   "cell_type": "markdown",
   "metadata": {},
   "source": [
    "---------------TF ---------------------------------------------------"
   ]
  },
  {
   "cell_type": "code",
   "execution_count": 13,
   "metadata": {},
   "outputs": [
    {
     "name": "stderr",
     "output_type": "stream",
     "text": [
      "/opt/conda/lib/python3.10/site-packages/tensorflow_io/python/ops/__init__.py:98: UserWarning: unable to load libtensorflow_io_plugins.so: unable to open file: libtensorflow_io_plugins.so, from paths: ['/opt/conda/lib/python3.10/site-packages/tensorflow_io/python/ops/libtensorflow_io_plugins.so']\n",
      "caused by: [\"[Errno 2] The file to load file system plugin from does not exist.: '/opt/conda/lib/python3.10/site-packages/tensorflow_io/python/ops/libtensorflow_io_plugins.so'\"]\n",
      "  warnings.warn(f\"unable to load libtensorflow_io_plugins.so: {e}\")\n",
      "/opt/conda/lib/python3.10/site-packages/tensorflow_io/python/ops/__init__.py:104: UserWarning: file system plugins are not loaded: unable to open file: libtensorflow_io.so, from paths: ['/opt/conda/lib/python3.10/site-packages/tensorflow_io/python/ops/libtensorflow_io.so']\n",
      "caused by: ['/opt/conda/lib/python3.10/site-packages/tensorflow_io/python/ops/libtensorflow_io.so: cannot open shared object file: No such file or directory']\n",
      "  warnings.warn(f\"file system plugins are not loaded: {e}\")\n"
     ]
    },
    {
     "name": "stdout",
     "output_type": "stream",
     "text": [
      "2.11.0\n"
     ]
    }
   ],
   "source": [
    "from tensorflow import keras\n",
    "import tensorflow as tf  # now import the tensorflow module\n",
    "print(tf.__version__)  # make sure the version is 2.x\n",
    "# from pyspark.sql.functions import udf\n",
    "import pandas as pd\n",
    "import numpy as np"
   ]
  },
  {
   "cell_type": "code",
   "execution_count": 14,
   "metadata": {},
   "outputs": [],
   "source": [
    "df_validate, df_test = df_test.randomSplit([0.5,0.5])\n",
    "to_array = udf(lambda v: v.toArray().tolist(), ArrayType(FloatType()))\n",
    "\n",
    "\n",
    "df_train_pandas = df_train.withColumn('features', to_array('features')).toPandas()\n",
    "df_validate_pandas = df_validate.withColumn('features', to_array('features')).toPandas()\n",
    "df_test_pandas = df_test.withColumn('features', to_array('features')).toPandas()\n",
    "\n",
    "x_train = tf.constant(np.array(df_train_pandas['features'].values.tolist()))\n",
    "y_train = tf.constant(np.array(df_train_pandas['label'].values.tolist()))\n",
    "\n",
    "x_validate = tf.constant(np.array(df_validate_pandas['features'].values.tolist()))\n",
    "y_validate = tf.constant(np.array(df_validate_pandas['label'].values.tolist()))\n",
    "\n",
    "\n",
    "x_test = tf.constant(np.array(df_test_pandas['features'].values.tolist()))\n",
    "y_test = tf.constant(np.array(df_test_pandas['label'].values.tolist()))"
   ]
  },
  {
   "cell_type": "markdown",
   "metadata": {},
   "source": [
    "-----------------------TF shallow NN CV------------------------------"
   ]
  },
  {
   "cell_type": "code",
   "execution_count": 15,
   "metadata": {},
   "outputs": [],
   "source": [
    "from sklearn.model_selection import KFold\n",
    "\n",
    "num_folds = 5\n",
    "HP_DEPTH_shallowNN_CV = 5\n",
    "kfold = KFold(n_splits=num_folds, shuffle=True)\n",
    "log_dir_tfShallowNN_CV =  \"TFshallow_NN_CV/\"\n",
    "Acc_shallow = []\n",
    "Loss_shallow = []"
   ]
  },
  {
   "cell_type": "code",
   "execution_count": 16,
   "metadata": {},
   "outputs": [],
   "source": [
    "from tensorboard.plugins.hparams import api as hp\n",
    "\n",
    "HP_WIDTH_shallowNN = hp.HParam('NN_width', hp.Discrete([15, 25, 35, 50]))\n",
    "HP_ActivationFunc_shallowNN = hp.HParam('activation_func', hp.Discrete(['tanh', 'gelu']))\n",
    "\n",
    "with tf.summary.create_file_writer(log_dir_tfShallowNN_CV).as_default():\n",
    "    hp.hparams_config(\n",
    "        hparams=[HP_WIDTH_shallowNN, HP_ActivationFunc_shallowNN],\n",
    "        metrics=[hp.Metric('Accuracy')],\n",
    "    )"
   ]
  },
  {
   "cell_type": "code",
   "execution_count": 25,
   "metadata": {},
   "outputs": [],
   "source": [
    "def train_test_model(hparams,logdir):\n",
    "    model = keras.Sequential()\n",
    "    \n",
    "    for _ in range(HP_DEPTH_shallowNN_CV):\n",
    "        model.add(keras.layers.Dense(hparams[HP_WIDTH_shallowNN] ,activation=hparams[HP_ActivationFunc_shallowNN]))\n",
    "        \n",
    "    model.add(keras.layers.Dense(6))\n",
    "    \n",
    "    model.compile(optimizer = 'adam',\n",
    "        loss = keras.losses.SparseCategoricalCrossentropy(from_logits=True),\n",
    "        metrics = [keras.metrics.SparseCategoricalAccuracy(name = 'Accuracy_epochs')])\n",
    "\n",
    "#     callback = [tf.keras.callbacks.TensorBoard(log_dir=logdir, histogram_freq=1)]\n",
    "    callback = tf.keras.callbacks.EarlyStopping(monitor=\"val_Accuracy_epochs\", patience = 10, min_delta=0.0003, restore_best_weights=True)\n",
    "#     By setting restore_best_weights=True in callback, the best model is used for prediction\n",
    "    history_shallowNN_CV = model.fit(x_train, y_train, epochs=30, verbose = 2,\n",
    "    callbacks=callback,\n",
    "    validation_data = (x_validate, y_validate))\n",
    "    \n",
    "    results = model.evaluate(x_test, y_test, batch_size=128)\n",
    "    \n",
    "    accuracy = np.max(history_shallowNN_CV.history[\"val_Accuracy_epochs\"])\n",
    "    return accuracy, results"
   ]
  },
  {
   "cell_type": "code",
   "execution_count": 26,
   "metadata": {},
   "outputs": [
    {
     "name": "stdout",
     "output_type": "stream",
     "text": [
      "--- Starting trial: run-WIDTH15-ActivationFunctiongelu\n",
      "{'NN_width': 15, 'activation_func': 'gelu'}\n",
      "Epoch 1/30\n",
      "7239/7239 - 9s - loss: 0.4786 - Accuracy_epochs: 0.8111 - val_loss: 0.4328 - val_Accuracy_epochs: 0.8269 - 9s/epoch - 1ms/step\n",
      "Epoch 2/30\n",
      "7239/7239 - 8s - loss: 0.4217 - Accuracy_epochs: 0.8280 - val_loss: 0.4314 - val_Accuracy_epochs: 0.8276 - 8s/epoch - 1ms/step\n",
      "Epoch 3/30\n",
      "7239/7239 - 7s - loss: 0.4163 - Accuracy_epochs: 0.8283 - val_loss: 0.4292 - val_Accuracy_epochs: 0.8274 - 7s/epoch - 1ms/step\n",
      "Epoch 4/30\n",
      "7239/7239 - 8s - loss: 0.4143 - Accuracy_epochs: 0.8289 - val_loss: 0.4268 - val_Accuracy_epochs: 0.8294 - 8s/epoch - 1ms/step\n",
      "Epoch 5/30\n",
      "7239/7239 - 7s - loss: 0.4128 - Accuracy_epochs: 0.8288 - val_loss: 0.4315 - val_Accuracy_epochs: 0.8293 - 7s/epoch - 1ms/step\n",
      "Epoch 6/30\n",
      "7239/7239 - 7s - loss: 0.4117 - Accuracy_epochs: 0.8287 - val_loss: 0.4269 - val_Accuracy_epochs: 0.8264 - 7s/epoch - 1ms/step\n",
      "Epoch 7/30\n",
      "7239/7239 - 7s - loss: 0.4111 - Accuracy_epochs: 0.8289 - val_loss: 0.4273 - val_Accuracy_epochs: 0.8265 - 7s/epoch - 1ms/step\n",
      "Epoch 8/30\n",
      "7239/7239 - 7s - loss: 0.4105 - Accuracy_epochs: 0.8287 - val_loss: 0.4288 - val_Accuracy_epochs: 0.8280 - 7s/epoch - 1ms/step\n",
      "Epoch 9/30\n",
      "7239/7239 - 7s - loss: 0.4103 - Accuracy_epochs: 0.8286 - val_loss: 0.4280 - val_Accuracy_epochs: 0.8281 - 7s/epoch - 989us/step\n",
      "Epoch 10/30\n",
      "7239/7239 - 7s - loss: 0.4098 - Accuracy_epochs: 0.8292 - val_loss: 0.4365 - val_Accuracy_epochs: 0.8256 - 7s/epoch - 997us/step\n",
      "Epoch 11/30\n",
      "7239/7239 - 7s - loss: 0.4097 - Accuracy_epochs: 0.8287 - val_loss: 0.4297 - val_Accuracy_epochs: 0.8250 - 7s/epoch - 1ms/step\n",
      "Epoch 12/30\n",
      "7239/7239 - 7s - loss: 0.4093 - Accuracy_epochs: 0.8294 - val_loss: 0.4367 - val_Accuracy_epochs: 0.8232 - 7s/epoch - 1ms/step\n",
      "Epoch 13/30\n",
      "7239/7239 - 7s - loss: 0.4092 - Accuracy_epochs: 0.8290 - val_loss: 0.4336 - val_Accuracy_epochs: 0.8268 - 7s/epoch - 1ms/step\n",
      "Epoch 14/30\n",
      "7239/7239 - 8s - loss: 0.4088 - Accuracy_epochs: 0.8291 - val_loss: 0.4351 - val_Accuracy_epochs: 0.8298 - 8s/epoch - 1ms/step\n",
      "Epoch 15/30\n",
      "7239/7239 - 7s - loss: 0.4084 - Accuracy_epochs: 0.8290 - val_loss: 0.4415 - val_Accuracy_epochs: 0.8293 - 7s/epoch - 1ms/step\n",
      "Epoch 16/30\n",
      "7239/7239 - 8s - loss: 0.4086 - Accuracy_epochs: 0.8288 - val_loss: 0.4384 - val_Accuracy_epochs: 0.8265 - 8s/epoch - 1ms/step\n",
      "Epoch 17/30\n",
      "7239/7239 - 7s - loss: 0.4082 - Accuracy_epochs: 0.8290 - val_loss: 0.4487 - val_Accuracy_epochs: 0.8280 - 7s/epoch - 1ms/step\n",
      "Epoch 18/30\n",
      "7239/7239 - 7s - loss: 0.4077 - Accuracy_epochs: 0.8292 - val_loss: 0.4453 - val_Accuracy_epochs: 0.8266 - 7s/epoch - 1ms/step\n",
      "Epoch 19/30\n",
      "7239/7239 - 7s - loss: 0.4074 - Accuracy_epochs: 0.8294 - val_loss: 0.4400 - val_Accuracy_epochs: 0.8274 - 7s/epoch - 1ms/step\n",
      "Epoch 20/30\n",
      "7239/7239 - 8s - loss: 0.4070 - Accuracy_epochs: 0.8292 - val_loss: 0.4495 - val_Accuracy_epochs: 0.8250 - 8s/epoch - 1ms/step\n",
      "Epoch 21/30\n",
      "7239/7239 - 8s - loss: 0.4068 - Accuracy_epochs: 0.8293 - val_loss: 0.4488 - val_Accuracy_epochs: 0.8234 - 8s/epoch - 1ms/step\n",
      "Epoch 22/30\n",
      "7239/7239 - 8s - loss: 0.4069 - Accuracy_epochs: 0.8291 - val_loss: 0.4425 - val_Accuracy_epochs: 0.8278 - 8s/epoch - 1ms/step\n",
      "389/389 [==============================] - 0s 855us/step - loss: 0.4293 - Accuracy_epochs: 0.8268\n",
      "***************************test loss, test acc: [0.4293350279331207, 0.8268182277679443]\n",
      "--- Starting trial: run-WIDTH25-ActivationFunctiongelu\n",
      "{'NN_width': 25, 'activation_func': 'gelu'}\n",
      "Epoch 1/30\n",
      "7239/7239 - 8s - loss: 0.4628 - Accuracy_epochs: 0.8153 - val_loss: 0.4321 - val_Accuracy_epochs: 0.8294 - 8s/epoch - 1ms/step\n",
      "Epoch 2/30\n",
      "7239/7239 - 8s - loss: 0.4163 - Accuracy_epochs: 0.8282 - val_loss: 0.4288 - val_Accuracy_epochs: 0.8265 - 8s/epoch - 1ms/step\n",
      "Epoch 3/30\n",
      "7239/7239 - 8s - loss: 0.4144 - Accuracy_epochs: 0.8281 - val_loss: 0.4254 - val_Accuracy_epochs: 0.8280 - 8s/epoch - 1ms/step\n",
      "Epoch 4/30\n",
      "7239/7239 - 8s - loss: 0.4124 - Accuracy_epochs: 0.8283 - val_loss: 0.4303 - val_Accuracy_epochs: 0.8256 - 8s/epoch - 1ms/step\n",
      "Epoch 5/30\n",
      "7239/7239 - 8s - loss: 0.4118 - Accuracy_epochs: 0.8287 - val_loss: 0.4276 - val_Accuracy_epochs: 0.8266 - 8s/epoch - 1ms/step\n",
      "Epoch 6/30\n",
      "7239/7239 - 7s - loss: 0.4101 - Accuracy_epochs: 0.8290 - val_loss: 0.4259 - val_Accuracy_epochs: 0.8266 - 7s/epoch - 1ms/step\n",
      "Epoch 7/30\n",
      "7239/7239 - 8s - loss: 0.4107 - Accuracy_epochs: 0.8287 - val_loss: 0.4271 - val_Accuracy_epochs: 0.8263 - 8s/epoch - 1ms/step\n",
      "Epoch 8/30\n",
      "7239/7239 - 8s - loss: 0.4097 - Accuracy_epochs: 0.8292 - val_loss: 0.4280 - val_Accuracy_epochs: 0.8247 - 8s/epoch - 1ms/step\n",
      "Epoch 9/30\n",
      "7239/7239 - 7s - loss: 0.4095 - Accuracy_epochs: 0.8287 - val_loss: 0.4262 - val_Accuracy_epochs: 0.8296 - 7s/epoch - 1ms/step\n",
      "Epoch 10/30\n",
      "7239/7239 - 8s - loss: 0.4085 - Accuracy_epochs: 0.8291 - val_loss: 0.4286 - val_Accuracy_epochs: 0.8234 - 8s/epoch - 1ms/step\n",
      "Epoch 11/30\n",
      "7239/7239 - 8s - loss: 0.4091 - Accuracy_epochs: 0.8289 - val_loss: 0.4278 - val_Accuracy_epochs: 0.8262 - 8s/epoch - 1ms/step\n",
      "Epoch 12/30\n",
      "7239/7239 - 8s - loss: 0.4113 - Accuracy_epochs: 0.8282 - val_loss: 0.4281 - val_Accuracy_epochs: 0.8282 - 8s/epoch - 1ms/step\n",
      "Epoch 13/30\n",
      "7239/7239 - 8s - loss: 0.4083 - Accuracy_epochs: 0.8290 - val_loss: 0.4279 - val_Accuracy_epochs: 0.8281 - 8s/epoch - 1ms/step\n",
      "Epoch 14/30\n",
      "7239/7239 - 7s - loss: 0.4078 - Accuracy_epochs: 0.8292 - val_loss: 0.4284 - val_Accuracy_epochs: 0.8254 - 7s/epoch - 1ms/step\n",
      "Epoch 15/30\n",
      "7239/7239 - 7s - loss: 0.4071 - Accuracy_epochs: 0.8293 - val_loss: 0.4383 - val_Accuracy_epochs: 0.8269 - 7s/epoch - 1ms/step\n",
      "Epoch 16/30\n",
      "7239/7239 - 7s - loss: 0.4074 - Accuracy_epochs: 0.8290 - val_loss: 0.4342 - val_Accuracy_epochs: 0.8282 - 7s/epoch - 995us/step\n",
      "Epoch 17/30\n",
      "7239/7239 - 7s - loss: 0.4064 - Accuracy_epochs: 0.8294 - val_loss: 0.4309 - val_Accuracy_epochs: 0.8300 - 7s/epoch - 990us/step\n",
      "Epoch 18/30\n",
      "7239/7239 - 7s - loss: 0.4067 - Accuracy_epochs: 0.8292 - val_loss: 0.4325 - val_Accuracy_epochs: 0.8262 - 7s/epoch - 996us/step\n",
      "Epoch 19/30\n",
      "7239/7239 - 8s - loss: 0.4113 - Accuracy_epochs: 0.8285 - val_loss: 0.4282 - val_Accuracy_epochs: 0.8269 - 8s/epoch - 1ms/step\n",
      "Epoch 20/30\n",
      "7239/7239 - 9s - loss: 0.4076 - Accuracy_epochs: 0.8290 - val_loss: 0.4361 - val_Accuracy_epochs: 0.8249 - 9s/epoch - 1ms/step\n",
      "389/389 [==============================] - 0s 1ms/step - loss: 0.4189 - Accuracy_epochs: 0.8270\n",
      "***************************test loss, test acc: [0.4188815951347351, 0.8269590735435486]\n",
      "--- Starting trial: run-WIDTH35-ActivationFunctiongelu\n",
      "{'NN_width': 35, 'activation_func': 'gelu'}\n",
      "Epoch 1/30\n",
      "7239/7239 - 9s - loss: 0.4553 - Accuracy_epochs: 0.8173 - val_loss: 0.4264 - val_Accuracy_epochs: 0.8229 - 9s/epoch - 1ms/step\n",
      "Epoch 2/30\n",
      "7239/7239 - 7s - loss: 0.4173 - Accuracy_epochs: 0.8282 - val_loss: 0.4272 - val_Accuracy_epochs: 0.8266 - 7s/epoch - 1ms/step\n",
      "Epoch 3/30\n",
      "7239/7239 - 7s - loss: 0.4146 - Accuracy_epochs: 0.8281 - val_loss: 0.4263 - val_Accuracy_epochs: 0.8247 - 7s/epoch - 1ms/step\n",
      "Epoch 4/30\n",
      "7239/7239 - 7s - loss: 0.4133 - Accuracy_epochs: 0.8285 - val_loss: 0.4307 - val_Accuracy_epochs: 0.8217 - 7s/epoch - 1ms/step\n",
      "Epoch 5/30\n",
      "7239/7239 - 7s - loss: 0.4131 - Accuracy_epochs: 0.8287 - val_loss: 0.4321 - val_Accuracy_epochs: 0.8247 - 7s/epoch - 1ms/step\n",
      "Epoch 6/30\n",
      "7239/7239 - 7s - loss: 0.4112 - Accuracy_epochs: 0.8288 - val_loss: 0.4288 - val_Accuracy_epochs: 0.8278 - 7s/epoch - 1ms/step\n",
      "Epoch 7/30\n",
      "7239/7239 - 7s - loss: 0.4117 - Accuracy_epochs: 0.8289 - val_loss: 0.4257 - val_Accuracy_epochs: 0.8266 - 7s/epoch - 1ms/step\n",
      "Epoch 8/30\n",
      "7239/7239 - 7s - loss: 0.4110 - Accuracy_epochs: 0.8286 - val_loss: 0.4267 - val_Accuracy_epochs: 0.8296 - 7s/epoch - 1ms/step\n",
      "Epoch 9/30\n",
      "7239/7239 - 7s - loss: 0.4111 - Accuracy_epochs: 0.8282 - val_loss: 0.4279 - val_Accuracy_epochs: 0.8278 - 7s/epoch - 1ms/step\n",
      "Epoch 10/30\n",
      "7239/7239 - 7s - loss: 0.4115 - Accuracy_epochs: 0.8286 - val_loss: 0.4274 - val_Accuracy_epochs: 0.8295 - 7s/epoch - 1ms/step\n",
      "Epoch 11/30\n",
      "7239/7239 - 7s - loss: 0.4090 - Accuracy_epochs: 0.8288 - val_loss: 0.4225 - val_Accuracy_epochs: 0.8281 - 7s/epoch - 1ms/step\n",
      "Epoch 12/30\n",
      "7239/7239 - 7s - loss: 0.4088 - Accuracy_epochs: 0.8290 - val_loss: 0.4214 - val_Accuracy_epochs: 0.8218 - 7s/epoch - 1ms/step\n",
      "Epoch 13/30\n",
      "7239/7239 - 8s - loss: 0.4085 - Accuracy_epochs: 0.8289 - val_loss: 0.4247 - val_Accuracy_epochs: 0.8234 - 8s/epoch - 1ms/step\n",
      "Epoch 14/30\n",
      "7239/7239 - 8s - loss: 0.4084 - Accuracy_epochs: 0.8288 - val_loss: 0.4321 - val_Accuracy_epochs: 0.8265 - 8s/epoch - 1ms/step\n",
      "389/389 [==============================] - 0s 848us/step - loss: 0.4254 - Accuracy_epochs: 0.8255\n",
      "***************************test loss, test acc: [0.42542606592178345, 0.8254702687263489]\n",
      "--- Starting trial: run-WIDTH50-ActivationFunctiongelu\n",
      "{'NN_width': 50, 'activation_func': 'gelu'}\n",
      "Epoch 1/30\n",
      "7239/7239 - 9s - loss: 0.4466 - Accuracy_epochs: 0.8198 - val_loss: 0.4802 - val_Accuracy_epochs: 0.8162 - 9s/epoch - 1ms/step\n",
      "Epoch 2/30\n",
      "7239/7239 - 8s - loss: 0.4167 - Accuracy_epochs: 0.8278 - val_loss: 0.4265 - val_Accuracy_epochs: 0.8228 - 8s/epoch - 1ms/step\n",
      "Epoch 3/30\n",
      "7239/7239 - 8s - loss: 0.4156 - Accuracy_epochs: 0.8278 - val_loss: 0.4243 - val_Accuracy_epochs: 0.8265 - 8s/epoch - 1ms/step\n",
      "Epoch 4/30\n",
      "7239/7239 - 8s - loss: 0.4127 - Accuracy_epochs: 0.8284 - val_loss: 0.4210 - val_Accuracy_epochs: 0.8296 - 8s/epoch - 1ms/step\n",
      "Epoch 5/30\n",
      "7239/7239 - 8s - loss: 0.4128 - Accuracy_epochs: 0.8283 - val_loss: 0.4338 - val_Accuracy_epochs: 0.8208 - 8s/epoch - 1ms/step\n",
      "Epoch 6/30\n",
      "7239/7239 - 8s - loss: 0.4141 - Accuracy_epochs: 0.8280 - val_loss: 0.4312 - val_Accuracy_epochs: 0.8294 - 8s/epoch - 1ms/step\n",
      "Epoch 7/30\n",
      "7239/7239 - 8s - loss: 0.4111 - Accuracy_epochs: 0.8285 - val_loss: 0.4338 - val_Accuracy_epochs: 0.8214 - 8s/epoch - 1ms/step\n",
      "Epoch 8/30\n",
      "7239/7239 - 8s - loss: 0.4109 - Accuracy_epochs: 0.8288 - val_loss: 0.4231 - val_Accuracy_epochs: 0.8266 - 8s/epoch - 1ms/step\n",
      "Epoch 9/30\n",
      "7239/7239 - 8s - loss: 0.4105 - Accuracy_epochs: 0.8290 - val_loss: 0.4228 - val_Accuracy_epochs: 0.8297 - 8s/epoch - 1ms/step\n",
      "Epoch 10/30\n",
      "7239/7239 - 8s - loss: 0.4144 - Accuracy_epochs: 0.8281 - val_loss: 0.4282 - val_Accuracy_epochs: 0.8233 - 8s/epoch - 1ms/step\n",
      "Epoch 11/30\n",
      "7239/7239 - 8s - loss: 0.4113 - Accuracy_epochs: 0.8289 - val_loss: 0.4289 - val_Accuracy_epochs: 0.8265 - 8s/epoch - 1ms/step\n",
      "389/389 [==============================] - 0s 883us/step - loss: 0.4728 - Accuracy_epochs: 0.8188\n",
      "***************************test loss, test acc: [0.47279900312423706, 0.8188109993934631]\n",
      "--- Starting trial: run-WIDTH15-ActivationFunctiontanh\n",
      "{'NN_width': 15, 'activation_func': 'tanh'}\n",
      "Epoch 1/30\n",
      "7239/7239 - 8s - loss: 0.4833 - Accuracy_epochs: 0.8102 - val_loss: 0.4388 - val_Accuracy_epochs: 0.8249 - 8s/epoch - 1ms/step\n",
      "Epoch 2/30\n",
      "7239/7239 - 7s - loss: 0.4268 - Accuracy_epochs: 0.8255 - val_loss: 0.4317 - val_Accuracy_epochs: 0.8258 - 7s/epoch - 956us/step\n",
      "Epoch 3/30\n",
      "7239/7239 - 7s - loss: 0.4242 - Accuracy_epochs: 0.8256 - val_loss: 0.4424 - val_Accuracy_epochs: 0.8250 - 7s/epoch - 939us/step\n",
      "Epoch 4/30\n",
      "7239/7239 - 7s - loss: 0.4262 - Accuracy_epochs: 0.8249 - val_loss: 0.4233 - val_Accuracy_epochs: 0.8253 - 7s/epoch - 937us/step\n",
      "Epoch 5/30\n",
      "7239/7239 - 7s - loss: 0.4258 - Accuracy_epochs: 0.8245 - val_loss: 0.4208 - val_Accuracy_epochs: 0.8292 - 7s/epoch - 941us/step\n",
      "Epoch 6/30\n",
      "7239/7239 - 7s - loss: 0.4185 - Accuracy_epochs: 0.8267 - val_loss: 0.4844 - val_Accuracy_epochs: 0.8095 - 7s/epoch - 976us/step\n",
      "Epoch 7/30\n",
      "7239/7239 - 7s - loss: 0.4341 - Accuracy_epochs: 0.8221 - val_loss: 0.4240 - val_Accuracy_epochs: 0.8277 - 7s/epoch - 1ms/step\n",
      "Epoch 8/30\n",
      "7239/7239 - 7s - loss: 0.4143 - Accuracy_epochs: 0.8278 - val_loss: 0.4221 - val_Accuracy_epochs: 0.8242 - 7s/epoch - 995us/step\n",
      "Epoch 9/30\n",
      "7239/7239 - 7s - loss: 0.4138 - Accuracy_epochs: 0.8278 - val_loss: 0.4206 - val_Accuracy_epochs: 0.8278 - 7s/epoch - 945us/step\n",
      "Epoch 10/30\n",
      "7239/7239 - 7s - loss: 0.4271 - Accuracy_epochs: 0.8231 - val_loss: 0.4401 - val_Accuracy_epochs: 0.8147 - 7s/epoch - 970us/step\n",
      "Epoch 11/30\n",
      "7239/7239 - 7s - loss: 0.4205 - Accuracy_epochs: 0.8280 - val_loss: 0.4244 - val_Accuracy_epochs: 0.8279 - 7s/epoch - 983us/step\n",
      "Epoch 12/30\n",
      "7239/7239 - 7s - loss: 0.4135 - Accuracy_epochs: 0.8283 - val_loss: 0.4236 - val_Accuracy_epochs: 0.8263 - 7s/epoch - 1ms/step\n",
      "Epoch 13/30\n",
      "7239/7239 - 7s - loss: 0.4146 - Accuracy_epochs: 0.8280 - val_loss: 0.4278 - val_Accuracy_epochs: 0.8226 - 7s/epoch - 947us/step\n",
      "Epoch 14/30\n",
      "7239/7239 - 7s - loss: 0.4280 - Accuracy_epochs: 0.8241 - val_loss: 0.4226 - val_Accuracy_epochs: 0.8280 - 7s/epoch - 968us/step\n",
      "Epoch 15/30\n",
      "7239/7239 - 7s - loss: 0.4258 - Accuracy_epochs: 0.8246 - val_loss: 0.4198 - val_Accuracy_epochs: 0.8281 - 7s/epoch - 960us/step\n",
      "Epoch 16/30\n",
      "7239/7239 - 7s - loss: 0.4176 - Accuracy_epochs: 0.8264 - val_loss: 0.4207 - val_Accuracy_epochs: 0.8278 - 7s/epoch - 971us/step\n",
      "389/389 [==============================] - 0s 834us/step - loss: 0.4764 - Accuracy_epochs: 0.8126\n",
      "***************************test loss, test acc: [0.4764169156551361, 0.8125942945480347]\n",
      "--- Starting trial: run-WIDTH25-ActivationFunctiontanh\n",
      "{'NN_width': 25, 'activation_func': 'tanh'}\n",
      "Epoch 1/30\n",
      "7239/7239 - 8s - loss: 0.4915 - Accuracy_epochs: 0.8068 - val_loss: 0.4366 - val_Accuracy_epochs: 0.8223 - 8s/epoch - 1ms/step\n",
      "Epoch 2/30\n",
      "7239/7239 - 7s - loss: 0.4260 - Accuracy_epochs: 0.8254 - val_loss: 0.4237 - val_Accuracy_epochs: 0.8291 - 7s/epoch - 993us/step\n",
      "Epoch 3/30\n",
      "7239/7239 - 7s - loss: 0.4246 - Accuracy_epochs: 0.8246 - val_loss: 0.4939 - val_Accuracy_epochs: 0.8081 - 7s/epoch - 952us/step\n",
      "Epoch 4/30\n",
      "7239/7239 - 7s - loss: 0.4385 - Accuracy_epochs: 0.8213 - val_loss: 0.4222 - val_Accuracy_epochs: 0.8294 - 7s/epoch - 979us/step\n",
      "Epoch 5/30\n",
      "7239/7239 - 7s - loss: 0.4194 - Accuracy_epochs: 0.8264 - val_loss: 0.4351 - val_Accuracy_epochs: 0.8223 - 7s/epoch - 954us/step\n",
      "Epoch 6/30\n",
      "7239/7239 - 7s - loss: 0.4240 - Accuracy_epochs: 0.8248 - val_loss: 0.4197 - val_Accuracy_epochs: 0.8293 - 7s/epoch - 958us/step\n",
      "Epoch 7/30\n",
      "7239/7239 - 7s - loss: 0.4187 - Accuracy_epochs: 0.8266 - val_loss: 0.4610 - val_Accuracy_epochs: 0.8160 - 7s/epoch - 953us/step\n",
      "Epoch 8/30\n",
      "7239/7239 - 7s - loss: 0.4159 - Accuracy_epochs: 0.8270 - val_loss: 0.4226 - val_Accuracy_epochs: 0.8247 - 7s/epoch - 1ms/step\n",
      "Epoch 9/30\n",
      "7239/7239 - 7s - loss: 0.4254 - Accuracy_epochs: 0.8242 - val_loss: 0.4154 - val_Accuracy_epochs: 0.8296 - 7s/epoch - 1ms/step\n",
      "Epoch 10/30\n",
      "7239/7239 - 7s - loss: 0.4182 - Accuracy_epochs: 0.8263 - val_loss: 0.4172 - val_Accuracy_epochs: 0.8281 - 7s/epoch - 1ms/step\n",
      "Epoch 11/30\n",
      "7239/7239 - 7s - loss: 0.4241 - Accuracy_epochs: 0.8254 - val_loss: 0.4184 - val_Accuracy_epochs: 0.8245 - 7s/epoch - 988us/step\n",
      "Epoch 12/30\n",
      "7239/7239 - 7s - loss: 0.4173 - Accuracy_epochs: 0.8264 - val_loss: 0.4170 - val_Accuracy_epochs: 0.8280 - 7s/epoch - 981us/step\n",
      "Epoch 13/30\n",
      "7239/7239 - 7s - loss: 0.4313 - Accuracy_epochs: 0.8223 - val_loss: 0.4597 - val_Accuracy_epochs: 0.8160 - 7s/epoch - 1ms/step\n",
      "389/389 [==============================] - 0s 846us/step - loss: 0.4881 - Accuracy_epochs: 0.8104\n",
      "***************************test loss, test acc: [0.4881387948989868, 0.8104214668273926]\n",
      "--- Starting trial: run-WIDTH35-ActivationFunctiontanh\n",
      "{'NN_width': 35, 'activation_func': 'tanh'}\n",
      "Epoch 1/30\n",
      "7239/7239 - 8s - loss: 0.4672 - Accuracy_epochs: 0.8142 - val_loss: 0.4385 - val_Accuracy_epochs: 0.8254 - 8s/epoch - 1ms/step\n",
      "Epoch 2/30\n",
      "7239/7239 - 8s - loss: 0.4355 - Accuracy_epochs: 0.8225 - val_loss: 0.4301 - val_Accuracy_epochs: 0.8244 - 8s/epoch - 1ms/step\n",
      "Epoch 3/30\n",
      "7239/7239 - 7s - loss: 0.4372 - Accuracy_epochs: 0.8221 - val_loss: 0.4650 - val_Accuracy_epochs: 0.8109 - 7s/epoch - 986us/step\n",
      "Epoch 4/30\n",
      "7239/7239 - 7s - loss: 0.4327 - Accuracy_epochs: 0.8233 - val_loss: 0.5025 - val_Accuracy_epochs: 0.8054 - 7s/epoch - 987us/step\n",
      "Epoch 5/30\n",
      "7239/7239 - 7s - loss: 0.4364 - Accuracy_epochs: 0.8215 - val_loss: 0.4230 - val_Accuracy_epochs: 0.8293 - 7s/epoch - 980us/step\n",
      "Epoch 6/30\n",
      "7239/7239 - 7s - loss: 0.4456 - Accuracy_epochs: 0.8192 - val_loss: 0.4748 - val_Accuracy_epochs: 0.8138 - 7s/epoch - 986us/step\n",
      "Epoch 7/30\n",
      "7239/7239 - 7s - loss: 0.4426 - Accuracy_epochs: 0.8197 - val_loss: 0.4736 - val_Accuracy_epochs: 0.8122 - 7s/epoch - 1ms/step\n",
      "Epoch 8/30\n",
      "7239/7239 - 7s - loss: 0.4572 - Accuracy_epochs: 0.8159 - val_loss: 0.4642 - val_Accuracy_epochs: 0.8110 - 7s/epoch - 1ms/step\n",
      "Epoch 9/30\n",
      "7239/7239 - 7s - loss: 0.4477 - Accuracy_epochs: 0.8184 - val_loss: 0.4662 - val_Accuracy_epochs: 0.8136 - 7s/epoch - 1ms/step\n",
      "Epoch 10/30\n",
      "7239/7239 - 7s - loss: 0.4446 - Accuracy_epochs: 0.8193 - val_loss: 0.4663 - val_Accuracy_epochs: 0.8121 - 7s/epoch - 1ms/step\n",
      "Epoch 11/30\n",
      "7239/7239 - 7s - loss: 0.4447 - Accuracy_epochs: 0.8189 - val_loss: 0.4804 - val_Accuracy_epochs: 0.8100 - 7s/epoch - 1ms/step\n",
      "Epoch 12/30\n",
      "7239/7239 - 7s - loss: 0.4399 - Accuracy_epochs: 0.8204 - val_loss: 0.4615 - val_Accuracy_epochs: 0.8120 - 7s/epoch - 1ms/step\n",
      "Epoch 13/30\n",
      "7239/7239 - 7s - loss: 0.4361 - Accuracy_epochs: 0.8218 - val_loss: 0.4365 - val_Accuracy_epochs: 0.8255 - 7s/epoch - 1ms/step\n",
      "Epoch 14/30\n",
      "7239/7239 - 7s - loss: 0.4259 - Accuracy_epochs: 0.8247 - val_loss: 0.4201 - val_Accuracy_epochs: 0.8282 - 7s/epoch - 1ms/step\n",
      "389/389 [==============================] - 0s 903us/step - loss: 0.4958 - Accuracy_epochs: 0.8076\n",
      "***************************test loss, test acc: [0.49583932757377625, 0.8076450824737549]\n",
      "--- Starting trial: run-WIDTH50-ActivationFunctiontanh\n",
      "{'NN_width': 50, 'activation_func': 'tanh'}\n",
      "Epoch 1/30\n",
      "7239/7239 - 8s - loss: 0.4768 - Accuracy_epochs: 0.8109 - val_loss: 0.4859 - val_Accuracy_epochs: 0.8082 - 8s/epoch - 1ms/step\n",
      "Epoch 2/30\n",
      "7239/7239 - 8s - loss: 0.4466 - Accuracy_epochs: 0.8191 - val_loss: 0.4748 - val_Accuracy_epochs: 0.8103 - 8s/epoch - 1ms/step\n",
      "Epoch 3/30\n",
      "7239/7239 - 8s - loss: 0.4508 - Accuracy_epochs: 0.8185 - val_loss: 0.4722 - val_Accuracy_epochs: 0.8139 - 8s/epoch - 1ms/step\n",
      "Epoch 4/30\n",
      "7239/7239 - 8s - loss: 0.4567 - Accuracy_epochs: 0.8161 - val_loss: 0.5604 - val_Accuracy_epochs: 0.7898 - 8s/epoch - 1ms/step\n",
      "Epoch 5/30\n",
      "7239/7239 - 8s - loss: 0.4683 - Accuracy_epochs: 0.8130 - val_loss: 0.4751 - val_Accuracy_epochs: 0.8122 - 8s/epoch - 1ms/step\n",
      "Epoch 6/30\n",
      "7239/7239 - 8s - loss: 0.4692 - Accuracy_epochs: 0.8130 - val_loss: 0.4341 - val_Accuracy_epochs: 0.8257 - 8s/epoch - 1ms/step\n",
      "Epoch 7/30\n",
      "7239/7239 - 8s - loss: 0.4671 - Accuracy_epochs: 0.8134 - val_loss: 0.4729 - val_Accuracy_epochs: 0.8122 - 8s/epoch - 1ms/step\n",
      "Epoch 8/30\n",
      "7239/7239 - 8s - loss: 0.4688 - Accuracy_epochs: 0.8128 - val_loss: 0.4754 - val_Accuracy_epochs: 0.8139 - 8s/epoch - 1ms/step\n",
      "Epoch 9/30\n",
      "7239/7239 - 8s - loss: 0.4676 - Accuracy_epochs: 0.8132 - val_loss: 0.4767 - val_Accuracy_epochs: 0.8088 - 8s/epoch - 1ms/step\n",
      "Epoch 10/30\n",
      "7239/7239 - 7s - loss: 0.4687 - Accuracy_epochs: 0.8127 - val_loss: 0.4744 - val_Accuracy_epochs: 0.8106 - 7s/epoch - 1ms/step\n",
      "Epoch 11/30\n",
      "7239/7239 - 8s - loss: 0.4663 - Accuracy_epochs: 0.8132 - val_loss: 0.4754 - val_Accuracy_epochs: 0.8088 - 8s/epoch - 1ms/step\n",
      "Epoch 12/30\n",
      "7239/7239 - 7s - loss: 0.4639 - Accuracy_epochs: 0.8145 - val_loss: 0.4617 - val_Accuracy_epochs: 0.8133 - 7s/epoch - 1ms/step\n",
      "Epoch 13/30\n",
      "7239/7239 - 8s - loss: 0.4566 - Accuracy_epochs: 0.8168 - val_loss: 0.4721 - val_Accuracy_epochs: 0.8106 - 8s/epoch - 1ms/step\n",
      "Epoch 14/30\n",
      "7239/7239 - 8s - loss: 0.4672 - Accuracy_epochs: 0.8125 - val_loss: 0.4670 - val_Accuracy_epochs: 0.8137 - 8s/epoch - 1ms/step\n",
      "389/389 [==============================] - 0s 926us/step - loss: 0.5551 - Accuracy_epochs: 0.7912\n",
      "***************************test loss, test acc: [0.5551455020904541, 0.7912081480026245]\n"
     ]
    }
   ],
   "source": [
    "\n",
    "for hp_activationfunc in HP_ActivationFunc_shallowNN.domain.values:\n",
    "    for width in (HP_WIDTH_shallowNN.domain.values):\n",
    "        hparams = {\n",
    "            HP_WIDTH_shallowNN: width,\n",
    "            HP_ActivationFunc_shallowNN: hp_activationfunc,\n",
    "        }\n",
    "        run_name = f\"run-WIDTH{int(hparams[HP_WIDTH_shallowNN])}-ActivationFunction{hparams[HP_ActivationFunc_shallowNN]}\"\n",
    "        print('--- Starting trial: %s' % run_name)\n",
    "        print({h.name: hparams[h] for h in hparams})\n",
    "\n",
    "        run_dir = log_dir_tfShallowNN_CV + run_name\n",
    "        accuracy, results = train_test_model(hparams,run_dir)\n",
    "        print(\"***************************test loss, test acc:\", results)\n",
    "\n",
    "        with tf.summary.create_file_writer(run_dir).as_default():\n",
    "            hp.hparams(hparams)  # record the values used in this trial\n",
    "            tf.summary.scalar(\"Accuracy\", accuracy, step=1)"
   ]
  },
  {
   "cell_type": "markdown",
   "metadata": {},
   "source": [
    "--------------------TF Deep NN CV------------------------------------"
   ]
  },
  {
   "cell_type": "code",
   "execution_count": 17,
   "metadata": {},
   "outputs": [],
   "source": [
    "from sklearn.model_selection import KFold\n",
    "\n",
    "num_folds = 5\n",
    "HP_DEPTH_DeepNN_CV = 25\n",
    "kfold = KFold(n_splits=num_folds, shuffle=True)\n",
    "log_dir_tfDeepNN_CV =  \"TFDeep_NN_CV/\"\n"
   ]
  },
  {
   "cell_type": "code",
   "execution_count": null,
   "metadata": {},
   "outputs": [],
   "source": [
    "from tensorboard.plugins.hparams import api as hp\n",
    "\n",
    "HP_WIDTH_DeepNN = hp.HParam('NN_width', hp.Discrete([10, 15, 20]))\n",
    "# HP_ActivationFunc_DeepNN = hp.HParam('activation_func', hp.Discrete(['sigmoid', 'tanh']))\n",
    "HP_ActivationFunc_DeepNN = hp.HParam('activation_func', hp.Discrete(['tanh', 'gelu']))\n",
    "\n",
    "with tf.summary.create_file_writer(log_dir_tfDeepNN_CV).as_default():\n",
    "    hp.hparams_config(\n",
    "        hparams=[HP_WIDTH_DeepNN, HP_ActivationFunc_DeepNN],\n",
    "        metrics=[hp.Metric('Accuracy')],\n",
    "    )\n",
    "    \n",
    "    "
   ]
  },
  {
   "cell_type": "code",
   "execution_count": 23,
   "metadata": {},
   "outputs": [],
   "source": [
    "def train_test_model(hparams,logdir):\n",
    "    model = keras.Sequential()\n",
    "    \n",
    "    for _ in range(HP_DEPTH_DeepNN_CV):\n",
    "        model.add(keras.layers.Dense(hparams[HP_WIDTH_DeepNN] ,activation=hparams[HP_ActivationFunc_DeepNN]))\n",
    "        \n",
    "    model.add(keras.layers.Dense(6))\n",
    "    \n",
    "    model.compile(optimizer = 'adam',\n",
    "        loss = keras.losses.SparseCategoricalCrossentropy(from_logits=True),\n",
    "        metrics = [keras.metrics.SparseCategoricalAccuracy(name = 'Accuracy_epochs')])\n",
    "\n",
    "    #     callback = [tf.keras.callbacks.TensorBoard(log_dir=logdir, histogram_freq=1)]\n",
    "    callback = tf.keras.callbacks.EarlyStopping(monitor=\"val_Accuracy_epochs\", patience = 12, min_delta=0.0003, restore_best_weights=True)\n",
    "    history_DeepNN_CV = model.fit(x_train, y_train, epochs=20, verbose = 2,\n",
    "    callbacks=callback,\n",
    "    validation_data = (x_validate, y_validate))\n",
    "    \n",
    "    results = model.evaluate(x_test, y_test, batch_size=128)\n",
    "\n",
    "\n",
    "    accuracy = np.max(history_DeepNN_CV.history[\"val_Accuracy_epochs\"])\n",
    "    return accuracy, results\n"
   ]
  },
  {
   "cell_type": "code",
   "execution_count": 24,
   "metadata": {},
   "outputs": [
    {
     "name": "stdout",
     "output_type": "stream",
     "text": [
      "--- Starting trial: run-WIDTH10-ActivationFunctiongelu\n",
      "{'NN_width': 10, 'activation_func': 'gelu'}\n",
      "Epoch 1/20\n",
      "7239/7239 - 15s - loss: 0.5297 - Accuracy_epochs: 0.7923 - val_loss: 0.4561 - val_Accuracy_epochs: 0.8114 - 15s/epoch - 2ms/step\n",
      "Epoch 2/20\n",
      "7239/7239 - 12s - loss: 0.4525 - Accuracy_epochs: 0.8181 - val_loss: 0.4798 - val_Accuracy_epochs: 0.8123 - 12s/epoch - 2ms/step\n",
      "Epoch 3/20\n",
      "7239/7239 - 12s - loss: 0.4426 - Accuracy_epochs: 0.8211 - val_loss: 0.4669 - val_Accuracy_epochs: 0.8129 - 12s/epoch - 2ms/step\n",
      "Epoch 4/20\n",
      "7239/7239 - 12s - loss: 0.4533 - Accuracy_epochs: 0.8165 - val_loss: 0.4569 - val_Accuracy_epochs: 0.8183 - 12s/epoch - 2ms/step\n",
      "Epoch 5/20\n",
      "7239/7239 - 12s - loss: 0.4458 - Accuracy_epochs: 0.8208 - val_loss: 0.4375 - val_Accuracy_epochs: 0.8245 - 12s/epoch - 2ms/step\n",
      "Epoch 6/20\n",
      "7239/7239 - 12s - loss: 0.4392 - Accuracy_epochs: 0.8212 - val_loss: 0.4429 - val_Accuracy_epochs: 0.8198 - 12s/epoch - 2ms/step\n",
      "Epoch 7/20\n",
      "7239/7239 - 12s - loss: 0.4406 - Accuracy_epochs: 0.8209 - val_loss: 0.4350 - val_Accuracy_epochs: 0.8242 - 12s/epoch - 2ms/step\n",
      "Epoch 8/20\n",
      "7239/7239 - 12s - loss: 0.4378 - Accuracy_epochs: 0.8208 - val_loss: 0.4356 - val_Accuracy_epochs: 0.8218 - 12s/epoch - 2ms/step\n",
      "Epoch 9/20\n",
      "7239/7239 - 12s - loss: 0.4330 - Accuracy_epochs: 0.8220 - val_loss: 0.4629 - val_Accuracy_epochs: 0.8114 - 12s/epoch - 2ms/step\n",
      "Epoch 10/20\n",
      "7239/7239 - 12s - loss: 0.4372 - Accuracy_epochs: 0.8236 - val_loss: 0.4504 - val_Accuracy_epochs: 0.8256 - 12s/epoch - 2ms/step\n",
      "Epoch 11/20\n",
      "7239/7239 - 12s - loss: 0.4353 - Accuracy_epochs: 0.8245 - val_loss: 0.4417 - val_Accuracy_epochs: 0.8271 - 12s/epoch - 2ms/step\n",
      "Epoch 12/20\n",
      "7239/7239 - 12s - loss: 0.4401 - Accuracy_epochs: 0.8225 - val_loss: 0.4404 - val_Accuracy_epochs: 0.8200 - 12s/epoch - 2ms/step\n",
      "Epoch 13/20\n",
      "7239/7239 - 12s - loss: 0.4383 - Accuracy_epochs: 0.8206 - val_loss: 0.4443 - val_Accuracy_epochs: 0.8214 - 12s/epoch - 2ms/step\n",
      "389/389 [==============================] - 0s 962us/step - loss: 0.4496 - Accuracy_epochs: 0.8146\n",
      "***************************test loss, test acc: [0.4495931565761566, 0.8146061897277832]\n",
      "--- Starting trial: run-WIDTH15-ActivationFunctiongelu\n",
      "{'NN_width': 15, 'activation_func': 'gelu'}\n",
      "Epoch 1/20\n",
      "7239/7239 - 16s - loss: 0.5315 - Accuracy_epochs: 0.7929 - val_loss: 0.4525 - val_Accuracy_epochs: 0.8210 - 16s/epoch - 2ms/step\n",
      "Epoch 2/20\n",
      "7239/7239 - 13s - loss: 0.4613 - Accuracy_epochs: 0.8153 - val_loss: 0.4483 - val_Accuracy_epochs: 0.8181 - 13s/epoch - 2ms/step\n",
      "Epoch 3/20\n",
      "7239/7239 - 13s - loss: 0.4839 - Accuracy_epochs: 0.8089 - val_loss: 0.4699 - val_Accuracy_epochs: 0.8158 - 13s/epoch - 2ms/step\n",
      "Epoch 4/20\n",
      "7239/7239 - 13s - loss: 0.4862 - Accuracy_epochs: 0.8142 - val_loss: 0.5398 - val_Accuracy_epochs: 0.8150 - 13s/epoch - 2ms/step\n",
      "Epoch 5/20\n",
      "7239/7239 - 13s - loss: 0.4566 - Accuracy_epochs: 0.8178 - val_loss: 0.5369 - val_Accuracy_epochs: 0.8156 - 13s/epoch - 2ms/step\n",
      "Epoch 6/20\n",
      "7239/7239 - 13s - loss: 0.4536 - Accuracy_epochs: 0.8170 - val_loss: 0.4887 - val_Accuracy_epochs: 0.8161 - 13s/epoch - 2ms/step\n",
      "Epoch 7/20\n",
      "7239/7239 - 13s - loss: 0.4369 - Accuracy_epochs: 0.8210 - val_loss: 0.4604 - val_Accuracy_epochs: 0.8184 - 13s/epoch - 2ms/step\n",
      "Epoch 8/20\n",
      "7239/7239 - 13s - loss: 0.4505 - Accuracy_epochs: 0.8185 - val_loss: 0.4537 - val_Accuracy_epochs: 0.8267 - 13s/epoch - 2ms/step\n",
      "Epoch 9/20\n",
      "7239/7239 - 13s - loss: 0.4556 - Accuracy_epochs: 0.8179 - val_loss: 0.5061 - val_Accuracy_epochs: 0.8099 - 13s/epoch - 2ms/step\n",
      "Epoch 10/20\n",
      "7239/7239 - 13s - loss: 0.4650 - Accuracy_epochs: 0.8167 - val_loss: 0.4516 - val_Accuracy_epochs: 0.8246 - 13s/epoch - 2ms/step\n",
      "Epoch 11/20\n",
      "7239/7239 - 13s - loss: 0.4580 - Accuracy_epochs: 0.8167 - val_loss: 0.4604 - val_Accuracy_epochs: 0.8212 - 13s/epoch - 2ms/step\n",
      "Epoch 12/20\n",
      "7239/7239 - 13s - loss: 0.4394 - Accuracy_epochs: 0.8198 - val_loss: 0.4938 - val_Accuracy_epochs: 0.8177 - 13s/epoch - 2ms/step\n",
      "Epoch 13/20\n",
      "7239/7239 - 14s - loss: 0.4253 - Accuracy_epochs: 0.8245 - val_loss: 0.5038 - val_Accuracy_epochs: 0.8142 - 14s/epoch - 2ms/step\n",
      "Epoch 14/20\n",
      "7239/7239 - 13s - loss: 0.4289 - Accuracy_epochs: 0.8241 - val_loss: 0.4558 - val_Accuracy_epochs: 0.8203 - 13s/epoch - 2ms/step\n",
      "Epoch 15/20\n",
      "7239/7239 - 14s - loss: 0.4185 - Accuracy_epochs: 0.8270 - val_loss: 0.5253 - val_Accuracy_epochs: 0.8293 - 14s/epoch - 2ms/step\n",
      "Epoch 16/20\n",
      "7239/7239 - 15s - loss: 0.4262 - Accuracy_epochs: 0.8257 - val_loss: 0.4434 - val_Accuracy_epochs: 0.8291 - 15s/epoch - 2ms/step\n",
      "Epoch 17/20\n",
      "7239/7239 - 13s - loss: 0.4164 - Accuracy_epochs: 0.8278 - val_loss: 0.4372 - val_Accuracy_epochs: 0.8243 - 13s/epoch - 2ms/step\n",
      "Epoch 18/20\n",
      "7239/7239 - 15s - loss: 0.4249 - Accuracy_epochs: 0.8256 - val_loss: 0.4376 - val_Accuracy_epochs: 0.8262 - 15s/epoch - 2ms/step\n",
      "Epoch 19/20\n",
      "7239/7239 - 14s - loss: 0.4227 - Accuracy_epochs: 0.8267 - val_loss: 0.4907 - val_Accuracy_epochs: 0.8107 - 14s/epoch - 2ms/step\n",
      "Epoch 20/20\n",
      "7239/7239 - 13s - loss: 0.4245 - Accuracy_epochs: 0.8248 - val_loss: 0.4375 - val_Accuracy_epochs: 0.8239 - 13s/epoch - 2ms/step\n",
      "389/389 [==============================] - 0s 972us/step - loss: 0.4354 - Accuracy_epochs: 0.8268\n",
      "***************************test loss, test acc: [0.4354126453399658, 0.8267980813980103]\n",
      "--- Starting trial: run-WIDTH20-ActivationFunctiongelu\n",
      "{'NN_width': 20, 'activation_func': 'gelu'}\n",
      "Epoch 1/20\n",
      "7239/7239 - 16s - loss: 0.5337 - Accuracy_epochs: 0.7967 - val_loss: 0.4909 - val_Accuracy_epochs: 0.8090 - 16s/epoch - 2ms/step\n",
      "Epoch 2/20\n",
      "7239/7239 - 14s - loss: 0.5077 - Accuracy_epochs: 0.8048 - val_loss: 0.4497 - val_Accuracy_epochs: 0.8203 - 14s/epoch - 2ms/step\n",
      "Epoch 3/20\n",
      "7239/7239 - 13s - loss: 0.4636 - Accuracy_epochs: 0.8141 - val_loss: 0.4576 - val_Accuracy_epochs: 0.8139 - 13s/epoch - 2ms/step\n",
      "Epoch 4/20\n",
      "7239/7239 - 13s - loss: 0.4893 - Accuracy_epochs: 0.8074 - val_loss: 0.5065 - val_Accuracy_epochs: 0.7982 - 13s/epoch - 2ms/step\n",
      "Epoch 5/20\n",
      "7239/7239 - 13s - loss: 0.4792 - Accuracy_epochs: 0.8130 - val_loss: 0.5325 - val_Accuracy_epochs: 0.7993 - 13s/epoch - 2ms/step\n",
      "Epoch 6/20\n",
      "7239/7239 - 13s - loss: 0.4732 - Accuracy_epochs: 0.8120 - val_loss: 0.4612 - val_Accuracy_epochs: 0.8200 - 13s/epoch - 2ms/step\n",
      "Epoch 7/20\n",
      "7239/7239 - 13s - loss: 0.4567 - Accuracy_epochs: 0.8179 - val_loss: 0.4347 - val_Accuracy_epochs: 0.8220 - 13s/epoch - 2ms/step\n",
      "Epoch 8/20\n",
      "7239/7239 - 13s - loss: 0.4469 - Accuracy_epochs: 0.8214 - val_loss: 0.4602 - val_Accuracy_epochs: 0.8165 - 13s/epoch - 2ms/step\n",
      "Epoch 9/20\n",
      "7239/7239 - 13s - loss: 0.4493 - Accuracy_epochs: 0.8181 - val_loss: 0.4300 - val_Accuracy_epochs: 0.8237 - 13s/epoch - 2ms/step\n",
      "Epoch 10/20\n",
      "7239/7239 - 13s - loss: 0.4305 - Accuracy_epochs: 0.8231 - val_loss: 0.4338 - val_Accuracy_epochs: 0.8185 - 13s/epoch - 2ms/step\n",
      "Epoch 11/20\n",
      "7239/7239 - 13s - loss: 0.4423 - Accuracy_epochs: 0.8217 - val_loss: 0.4334 - val_Accuracy_epochs: 0.8227 - 13s/epoch - 2ms/step\n",
      "Epoch 12/20\n",
      "7239/7239 - 14s - loss: 0.4368 - Accuracy_epochs: 0.8233 - val_loss: 0.4445 - val_Accuracy_epochs: 0.8174 - 14s/epoch - 2ms/step\n",
      "Epoch 13/20\n",
      "7239/7239 - 15s - loss: 0.4392 - Accuracy_epochs: 0.8223 - val_loss: 0.4605 - val_Accuracy_epochs: 0.8182 - 15s/epoch - 2ms/step\n",
      "Epoch 14/20\n",
      "7239/7239 - 13s - loss: 0.4311 - Accuracy_epochs: 0.8237 - val_loss: 0.4257 - val_Accuracy_epochs: 0.8255 - 13s/epoch - 2ms/step\n",
      "Epoch 15/20\n",
      "7239/7239 - 13s - loss: 0.4295 - Accuracy_epochs: 0.8241 - val_loss: 0.4305 - val_Accuracy_epochs: 0.8219 - 13s/epoch - 2ms/step\n",
      "Epoch 16/20\n",
      "7239/7239 - 14s - loss: 0.4263 - Accuracy_epochs: 0.8248 - val_loss: 0.5354 - val_Accuracy_epochs: 0.7964 - 14s/epoch - 2ms/step\n",
      "Epoch 17/20\n",
      "7239/7239 - 13s - loss: 0.4760 - Accuracy_epochs: 0.8110 - val_loss: 0.4777 - val_Accuracy_epochs: 0.8127 - 13s/epoch - 2ms/step\n",
      "Epoch 18/20\n",
      "7239/7239 - 13s - loss: 0.4613 - Accuracy_epochs: 0.8157 - val_loss: 0.4498 - val_Accuracy_epochs: 0.8151 - 13s/epoch - 2ms/step\n",
      "Epoch 19/20\n",
      "7239/7239 - 13s - loss: 0.4570 - Accuracy_epochs: 0.8099 - val_loss: 0.4514 - val_Accuracy_epochs: 0.8100 - 13s/epoch - 2ms/step\n",
      "Epoch 20/20\n",
      "7239/7239 - 13s - loss: 0.4597 - Accuracy_epochs: 0.8124 - val_loss: 0.5564 - val_Accuracy_epochs: 0.8010 - 13s/epoch - 2ms/step\n",
      "389/389 [==============================] - 1s 1ms/step - loss: 0.5504 - Accuracy_epochs: 0.8035\n",
      "***************************test loss, test acc: [0.5503770709037781, 0.8035207986831665]\n",
      "--- Starting trial: run-WIDTH10-ActivationFunctiontanh\n",
      "{'NN_width': 10, 'activation_func': 'tanh'}\n",
      "Epoch 1/20\n",
      "7239/7239 - 13s - loss: 0.5705 - Accuracy_epochs: 0.7851 - val_loss: 0.5449 - val_Accuracy_epochs: 0.7964 - 13s/epoch - 2ms/step\n",
      "Epoch 2/20\n",
      "7239/7239 - 11s - loss: 0.5362 - Accuracy_epochs: 0.7967 - val_loss: 0.5326 - val_Accuracy_epochs: 0.7964 - 11s/epoch - 1ms/step\n",
      "Epoch 3/20\n",
      "7239/7239 - 12s - loss: 0.5227 - Accuracy_epochs: 0.7995 - val_loss: 0.5017 - val_Accuracy_epochs: 0.8015 - 12s/epoch - 2ms/step\n",
      "Epoch 4/20\n",
      "7239/7239 - 11s - loss: 0.5080 - Accuracy_epochs: 0.8022 - val_loss: 0.5305 - val_Accuracy_epochs: 0.8005 - 11s/epoch - 2ms/step\n",
      "Epoch 5/20\n",
      "7239/7239 - 11s - loss: 0.5217 - Accuracy_epochs: 0.8012 - val_loss: 0.5423 - val_Accuracy_epochs: 0.7925 - 11s/epoch - 2ms/step\n",
      "Epoch 6/20\n",
      "7239/7239 - 11s - loss: 0.5974 - Accuracy_epochs: 0.7829 - val_loss: 0.5351 - val_Accuracy_epochs: 0.7930 - 11s/epoch - 2ms/step\n",
      "Epoch 7/20\n",
      "7239/7239 - 12s - loss: 0.5318 - Accuracy_epochs: 0.7943 - val_loss: 0.5451 - val_Accuracy_epochs: 0.8007 - 12s/epoch - 2ms/step\n",
      "Epoch 8/20\n",
      "7239/7239 - 13s - loss: 0.5636 - Accuracy_epochs: 0.7860 - val_loss: 0.5690 - val_Accuracy_epochs: 0.7809 - 13s/epoch - 2ms/step\n",
      "Epoch 9/20\n",
      "7239/7239 - 12s - loss: 0.5650 - Accuracy_epochs: 0.7825 - val_loss: 0.5704 - val_Accuracy_epochs: 0.7815 - 12s/epoch - 2ms/step\n",
      "Epoch 10/20\n",
      "7239/7239 - 11s - loss: 0.5642 - Accuracy_epochs: 0.7836 - val_loss: 0.5586 - val_Accuracy_epochs: 0.7850 - 11s/epoch - 2ms/step\n",
      "Epoch 11/20\n",
      "7239/7239 - 11s - loss: 0.5554 - Accuracy_epochs: 0.7859 - val_loss: 0.5938 - val_Accuracy_epochs: 0.7809 - 11s/epoch - 2ms/step\n",
      "Epoch 12/20\n",
      "7239/7239 - 11s - loss: 0.5846 - Accuracy_epochs: 0.7794 - val_loss: 0.6003 - val_Accuracy_epochs: 0.7749 - 11s/epoch - 1ms/step\n",
      "Epoch 13/20\n",
      "7239/7239 - 11s - loss: 0.6057 - Accuracy_epochs: 0.7770 - val_loss: 0.6141 - val_Accuracy_epochs: 0.7749 - 11s/epoch - 2ms/step\n",
      "Epoch 14/20\n",
      "7239/7239 - 11s - loss: 0.8509 - Accuracy_epochs: 0.6289 - val_loss: 0.8564 - val_Accuracy_epochs: 0.6449 - 11s/epoch - 2ms/step\n",
      "Epoch 15/20\n",
      "7239/7239 - 11s - loss: 0.8367 - Accuracy_epochs: 0.6641 - val_loss: 0.7934 - val_Accuracy_epochs: 0.6732 - 11s/epoch - 2ms/step\n",
      "Epoch 16/20\n",
      "7239/7239 - 11s - loss: 0.5882 - Accuracy_epochs: 0.7867 - val_loss: 0.5768 - val_Accuracy_epochs: 0.7880 - 11s/epoch - 2ms/step\n",
      "Epoch 17/20\n",
      "7239/7239 - 11s - loss: 0.7033 - Accuracy_epochs: 0.7347 - val_loss: 0.8340 - val_Accuracy_epochs: 0.6770 - 11s/epoch - 2ms/step\n",
      "Epoch 18/20\n",
      "7239/7239 - 11s - loss: 0.8467 - Accuracy_epochs: 0.6703 - val_loss: 0.8324 - val_Accuracy_epochs: 0.6771 - 11s/epoch - 2ms/step\n",
      "Epoch 19/20\n",
      "7239/7239 - 13s - loss: 0.8478 - Accuracy_epochs: 0.6681 - val_loss: 0.8382 - val_Accuracy_epochs: 0.6730 - 13s/epoch - 2ms/step\n",
      "Epoch 20/20\n",
      "7239/7239 - 11s - loss: 0.8504 - Accuracy_epochs: 0.6673 - val_loss: 0.8385 - val_Accuracy_epochs: 0.6725 - 11s/epoch - 2ms/step\n",
      "389/389 [==============================] - 0s 934us/step - loss: 0.8427 - Accuracy_epochs: 0.6704\n",
      "***************************test loss, test acc: [0.8426638245582581, 0.6704355478286743]\n",
      "--- Starting trial: run-WIDTH15-ActivationFunctiontanh\n",
      "{'NN_width': 15, 'activation_func': 'tanh'}\n",
      "Epoch 1/20\n",
      "7239/7239 - 14s - loss: 0.6548 - Accuracy_epochs: 0.7760 - val_loss: 0.7043 - val_Accuracy_epochs: 0.7819 - 14s/epoch - 2ms/step\n",
      "Epoch 2/20\n",
      "7239/7239 - 11s - loss: 0.7722 - Accuracy_epochs: 0.6933 - val_loss: 0.7023 - val_Accuracy_epochs: 0.7802 - 11s/epoch - 2ms/step\n",
      "Epoch 3/20\n",
      "7239/7239 - 11s - loss: 0.5877 - Accuracy_epochs: 0.7888 - val_loss: 0.6824 - val_Accuracy_epochs: 0.7920 - 11s/epoch - 2ms/step\n",
      "Epoch 4/20\n",
      "7239/7239 - 11s - loss: 0.8624 - Accuracy_epochs: 0.6140 - val_loss: 1.0365 - val_Accuracy_epochs: 0.5124 - 11s/epoch - 2ms/step\n",
      "Epoch 5/20\n",
      "7239/7239 - 11s - loss: 1.0578 - Accuracy_epochs: 0.5051 - val_loss: 1.0579 - val_Accuracy_epochs: 0.5046 - 11s/epoch - 2ms/step\n",
      "Epoch 6/20\n",
      "7239/7239 - 11s - loss: 1.0660 - Accuracy_epochs: 0.5026 - val_loss: 1.0579 - val_Accuracy_epochs: 0.5046 - 11s/epoch - 2ms/step\n",
      "Epoch 7/20\n",
      "7239/7239 - 11s - loss: 1.0660 - Accuracy_epochs: 0.5026 - val_loss: 1.0575 - val_Accuracy_epochs: 0.5046 - 11s/epoch - 2ms/step\n",
      "Epoch 8/20\n",
      "7239/7239 - 11s - loss: 1.0660 - Accuracy_epochs: 0.5025 - val_loss: 1.0571 - val_Accuracy_epochs: 0.5046 - 11s/epoch - 2ms/step\n",
      "Epoch 9/20\n",
      "7239/7239 - 11s - loss: 1.0660 - Accuracy_epochs: 0.5025 - val_loss: 1.0589 - val_Accuracy_epochs: 0.5046 - 11s/epoch - 2ms/step\n",
      "Epoch 10/20\n",
      "7239/7239 - 11s - loss: 1.0658 - Accuracy_epochs: 0.5027 - val_loss: 1.0575 - val_Accuracy_epochs: 0.5046 - 11s/epoch - 2ms/step\n",
      "Epoch 11/20\n",
      "7239/7239 - 11s - loss: 1.0659 - Accuracy_epochs: 0.5025 - val_loss: 1.0579 - val_Accuracy_epochs: 0.5046 - 11s/epoch - 2ms/step\n",
      "Epoch 12/20\n",
      "7239/7239 - 11s - loss: 1.0659 - Accuracy_epochs: 0.5027 - val_loss: 1.0586 - val_Accuracy_epochs: 0.5046 - 11s/epoch - 2ms/step\n",
      "Epoch 13/20\n",
      "7239/7239 - 11s - loss: 1.0658 - Accuracy_epochs: 0.5027 - val_loss: 1.0576 - val_Accuracy_epochs: 0.5046 - 11s/epoch - 2ms/step\n",
      "Epoch 14/20\n",
      "7239/7239 - 11s - loss: 1.0659 - Accuracy_epochs: 0.5027 - val_loss: 1.0577 - val_Accuracy_epochs: 0.5046 - 11s/epoch - 1ms/step\n",
      "Epoch 15/20\n",
      "7239/7239 - 11s - loss: 1.0659 - Accuracy_epochs: 0.5025 - val_loss: 1.0577 - val_Accuracy_epochs: 0.5046 - 11s/epoch - 2ms/step\n",
      "Epoch 16/20\n",
      "7239/7239 - 11s - loss: 1.0659 - Accuracy_epochs: 0.5027 - val_loss: 1.0586 - val_Accuracy_epochs: 0.5046 - 11s/epoch - 2ms/step\n",
      "Epoch 17/20\n",
      "7239/7239 - 11s - loss: 1.0659 - Accuracy_epochs: 0.5023 - val_loss: 1.0579 - val_Accuracy_epochs: 0.5046 - 11s/epoch - 2ms/step\n",
      "389/389 [==============================] - 0s 935us/step - loss: 1.0641 - Accuracy_epochs: 0.5033\n",
      "***************************test loss, test acc: [1.0641387701034546, 0.5032894015312195]\n",
      "--- Starting trial: run-WIDTH20-ActivationFunctiontanh\n",
      "{'NN_width': 20, 'activation_func': 'tanh'}\n",
      "Epoch 1/20\n",
      "7239/7239 - 17s - loss: 0.6785 - Accuracy_epochs: 0.7731 - val_loss: 0.7454 - val_Accuracy_epochs: 0.7802 - 17s/epoch - 2ms/step\n",
      "Epoch 2/20\n",
      "7239/7239 - 12s - loss: 0.7219 - Accuracy_epochs: 0.7778 - val_loss: 0.6484 - val_Accuracy_epochs: 0.7742 - 12s/epoch - 2ms/step\n",
      "Epoch 3/20\n",
      "7239/7239 - 13s - loss: 0.7520 - Accuracy_epochs: 0.7715 - val_loss: 0.7617 - val_Accuracy_epochs: 0.7742 - 13s/epoch - 2ms/step\n",
      "Epoch 4/20\n",
      "7239/7239 - 12s - loss: 0.7581 - Accuracy_epochs: 0.7762 - val_loss: 0.7622 - val_Accuracy_epochs: 0.7742 - 12s/epoch - 2ms/step\n",
      "Epoch 5/20\n",
      "7239/7239 - 12s - loss: 0.7581 - Accuracy_epochs: 0.7762 - val_loss: 0.7643 - val_Accuracy_epochs: 0.7742 - 12s/epoch - 2ms/step\n",
      "Epoch 6/20\n",
      "7239/7239 - 13s - loss: 0.7580 - Accuracy_epochs: 0.7762 - val_loss: 0.7626 - val_Accuracy_epochs: 0.7742 - 13s/epoch - 2ms/step\n",
      "Epoch 7/20\n",
      "7239/7239 - 12s - loss: 0.7580 - Accuracy_epochs: 0.7762 - val_loss: 0.7625 - val_Accuracy_epochs: 0.7742 - 12s/epoch - 2ms/step\n",
      "Epoch 8/20\n",
      "7239/7239 - 12s - loss: 0.7579 - Accuracy_epochs: 0.7762 - val_loss: 0.7619 - val_Accuracy_epochs: 0.7742 - 12s/epoch - 2ms/step\n",
      "Epoch 9/20\n",
      "7239/7239 - 12s - loss: 0.7579 - Accuracy_epochs: 0.7762 - val_loss: 0.7621 - val_Accuracy_epochs: 0.7742 - 12s/epoch - 2ms/step\n",
      "Epoch 10/20\n",
      "7239/7239 - 12s - loss: 0.7579 - Accuracy_epochs: 0.7762 - val_loss: 0.7621 - val_Accuracy_epochs: 0.7742 - 12s/epoch - 2ms/step\n",
      "Epoch 11/20\n",
      "7239/7239 - 12s - loss: 0.7579 - Accuracy_epochs: 0.7762 - val_loss: 0.7618 - val_Accuracy_epochs: 0.7742 - 12s/epoch - 2ms/step\n",
      "Epoch 12/20\n",
      "7239/7239 - 12s - loss: 0.7579 - Accuracy_epochs: 0.7762 - val_loss: 0.7619 - val_Accuracy_epochs: 0.7742 - 12s/epoch - 2ms/step\n",
      "Epoch 13/20\n",
      "7239/7239 - 12s - loss: 0.7579 - Accuracy_epochs: 0.7762 - val_loss: 0.7631 - val_Accuracy_epochs: 0.7742 - 12s/epoch - 2ms/step\n",
      "Epoch 14/20\n",
      "7239/7239 - 12s - loss: 0.7581 - Accuracy_epochs: 0.7762 - val_loss: 0.7622 - val_Accuracy_epochs: 0.7742 - 12s/epoch - 2ms/step\n",
      "389/389 [==============================] - 0s 1ms/step - loss: 0.6487 - Accuracy_epochs: 0.7749\n",
      "***************************test loss, test acc: [0.6486892104148865, 0.7749320864677429]\n"
     ]
    }
   ],
   "source": [
    "\n",
    "for hp_activationfunc in HP_ActivationFunc_DeepNN.domain.values:\n",
    "    for width in (HP_WIDTH_DeepNN.domain.values):\n",
    "        hparams = {\n",
    "            HP_WIDTH_DeepNN: width,\n",
    "            HP_ActivationFunc_DeepNN: hp_activationfunc,\n",
    "        }\n",
    "        run_name = f\"run-WIDTH{int(hparams[HP_WIDTH_DeepNN])}-ActivationFunction{hparams[HP_ActivationFunc_DeepNN]}\"\n",
    "        print('--- Starting trial: %s' % run_name)\n",
    "        print({h.name: hparams[h] for h in hparams})\n",
    "\n",
    "        run_dir = log_dir_tfDeepNN_CV + run_name\n",
    "        accuracy, results = train_test_model(hparams,run_dir)\n",
    "        print(\"***************************test loss, test acc:\", results)\n",
    "\n",
    "        with tf.summary.create_file_writer(run_dir).as_default():\n",
    "            hp.hparams(hparams)  # record the values used in this trial\n",
    "            tf.summary.scalar(\"Accuracy\", accuracy, step=1)"
   ]
  },
  {
   "cell_type": "code",
   "execution_count": null,
   "metadata": {},
   "outputs": [],
   "source": []
  },
  {
   "cell_type": "code",
   "execution_count": null,
   "metadata": {},
   "outputs": [],
   "source": []
  }
 ],
 "metadata": {
  "kernelspec": {
   "display_name": "Python 3.10.8 ('14813project')",
   "language": "python",
   "name": "python3"
  },
  "language_info": {
   "codemirror_mode": {
    "name": "ipython",
    "version": 3
   },
   "file_extension": ".py",
   "mimetype": "text/x-python",
   "name": "python",
   "nbconvert_exporter": "python",
   "pygments_lexer": "ipython3",
   "version": "3.10.8"
  },
  "vscode": {
   "interpreter": {
    "hash": "204d695976b0cf19259ed5495c85701f7d5176c409bbd7f549341886982b7dd4"
   }
  }
 },
 "nbformat": 4,
 "nbformat_minor": 4
}
